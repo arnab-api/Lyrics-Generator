{
 "cells": [
  {
   "cell_type": "code",
   "execution_count": 1,
   "metadata": {},
   "outputs": [],
   "source": [
    "%load_ext autoreload\n",
    "%autoreload 2"
   ]
  },
  {
   "cell_type": "code",
   "execution_count": 2,
   "metadata": {},
   "outputs": [
    {
     "name": "stderr",
     "output_type": "stream",
     "text": [
      "/home/local_arnab/miniconda3/envs/tensorflow/lib/python3.9/site-packages/tqdm/auto.py:21: TqdmWarning: IProgress not found. Please update jupyter and ipywidgets. See https://ipywidgets.readthedocs.io/en/stable/user_install.html\n",
      "  from .autonotebook import tqdm as notebook_tqdm\n"
     ]
    }
   ],
   "source": [
    "import pandas as pd\n",
    "import torch\n",
    "import numpy as np\n",
    "from tqdm.auto import tqdm\n",
    "\n",
    "from preprocessing import tokenize, embeddings"
   ]
  },
  {
   "attachments": {},
   "cell_type": "markdown",
   "metadata": {},
   "source": [
    "## Loading Data"
   ]
  },
  {
   "cell_type": "code",
   "execution_count": 3,
   "metadata": {},
   "outputs": [
    {
     "name": "stdout",
     "output_type": "stream",
     "text": [
      "(80285, 4)\n"
     ]
    },
    {
     "data": {
      "text/html": [
       "<div>\n",
       "<style scoped>\n",
       "    .dataframe tbody tr th:only-of-type {\n",
       "        vertical-align: middle;\n",
       "    }\n",
       "\n",
       "    .dataframe tbody tr th {\n",
       "        vertical-align: top;\n",
       "    }\n",
       "\n",
       "    .dataframe thead th {\n",
       "        text-align: right;\n",
       "    }\n",
       "</style>\n",
       "<table border=\"1\" class=\"dataframe\">\n",
       "  <thead>\n",
       "    <tr style=\"text-align: right;\">\n",
       "      <th></th>\n",
       "      <th>Artist</th>\n",
       "      <th>Song</th>\n",
       "      <th>Lyrics</th>\n",
       "      <th>Genre</th>\n",
       "    </tr>\n",
       "  </thead>\n",
       "  <tbody>\n",
       "    <tr>\n",
       "      <th>0</th>\n",
       "      <td>Britney Spears</td>\n",
       "      <td>...Baby One More Time</td>\n",
       "      <td>Oh, baby, baby Oh, baby, baby  Oh, baby, baby...</td>\n",
       "      <td>Pop</td>\n",
       "    </tr>\n",
       "    <tr>\n",
       "      <th>1</th>\n",
       "      <td>Britney Spears</td>\n",
       "      <td>Toxic</td>\n",
       "      <td>Baby, can't you see I'm calling? A guy like y...</td>\n",
       "      <td>Pop</td>\n",
       "    </tr>\n",
       "    <tr>\n",
       "      <th>2</th>\n",
       "      <td>Britney Spears</td>\n",
       "      <td>Work Bitch</td>\n",
       "      <td>You wanna? You wanna?  You want a hot body? Y...</td>\n",
       "      <td>Pop</td>\n",
       "    </tr>\n",
       "    <tr>\n",
       "      <th>3</th>\n",
       "      <td>Britney Spears</td>\n",
       "      <td>Oops!... I Did It Again</td>\n",
       "      <td>Mmm, yeah Yeah, yeah, yeah, yeah, yeah, yeah ...</td>\n",
       "      <td>Pop</td>\n",
       "    </tr>\n",
       "    <tr>\n",
       "      <th>4</th>\n",
       "      <td>Britney Spears</td>\n",
       "      <td>If U Seek Amy</td>\n",
       "      <td>La, la, la, la, la-la, la, la La, la, la, la,...</td>\n",
       "      <td>Pop</td>\n",
       "    </tr>\n",
       "  </tbody>\n",
       "</table>\n",
       "</div>"
      ],
      "text/plain": [
       "           Artist                     Song  \\\n",
       "0  Britney Spears    ...Baby One More Time   \n",
       "1  Britney Spears                    Toxic   \n",
       "2  Britney Spears               Work Bitch   \n",
       "3  Britney Spears  Oops!... I Did It Again   \n",
       "4  Britney Spears            If U Seek Amy   \n",
       "\n",
       "                                              Lyrics Genre  \n",
       "0   Oh, baby, baby Oh, baby, baby  Oh, baby, baby...   Pop  \n",
       "1   Baby, can't you see I'm calling? A guy like y...   Pop  \n",
       "2   You wanna? You wanna?  You want a hot body? Y...   Pop  \n",
       "3   Mmm, yeah Yeah, yeah, yeah, yeah, yeah, yeah ...   Pop  \n",
       "4   La, la, la, la, la-la, la, la La, la, la, la,...   Pop  "
      ]
     },
     "execution_count": 3,
     "metadata": {},
     "output_type": "execute_result"
    }
   ],
   "source": [
    "df = pd.read_csv(\"Data/df_lyrics.csv\")\n",
    "print(df.shape)\n",
    "df.head()"
   ]
  },
  {
   "cell_type": "code",
   "execution_count": 4,
   "metadata": {},
   "outputs": [
    {
     "name": "stdout",
     "output_type": "stream",
     "text": [
      "Pop 18275\n",
      "Country 21717\n",
      "Rock 21962\n",
      "Rap 18331\n"
     ]
    }
   ],
   "source": [
    "for genre in set(df.Genre):\n",
    "    print(genre, df[df.Genre == genre].shape[0])"
   ]
  },
  {
   "cell_type": "code",
   "execution_count": 5,
   "metadata": {},
   "outputs": [],
   "source": [
    "####################################################################\n",
    "genre = \"Rock\"\n",
    "####################################################################\n",
    "\n",
    "df_genre = df[df.Genre == genre]"
   ]
  },
  {
   "attachments": {},
   "cell_type": "markdown",
   "metadata": {},
   "source": [
    "## Preprocessing"
   ]
  },
  {
   "cell_type": "code",
   "execution_count": 6,
   "metadata": {},
   "outputs": [
    {
     "name": "stderr",
     "output_type": "stream",
     "text": [
      "2023-04-12 18:03:09.900635: I tensorflow/stream_executor/platform/default/dso_loader.cc:49] Successfully opened dynamic library libcudart.so.10.1\n"
     ]
    },
    {
     "data": {
      "text/plain": [
       "{'tokens': [['<s>', 'I', '_am', '_a', '_little', '_te', 'ap', 'ot', '</s>']],\n",
       " 'token_ids': [[0, 432, 51, 57, 778, 2153, 1821, 6834, 87]]}"
      ]
     },
     "execution_count": 6,
     "metadata": {},
     "output_type": "execute_result"
    }
   ],
   "source": [
    "tokenizer = tokenize.Tokenizer()\n",
    "tokenizer.load(path = \"Weights/tokenizer.json\")\n",
    "tokenizer.tokenize(\"I'm a little teapot\", get_token_ids=True)"
   ]
  },
  {
   "cell_type": "code",
   "execution_count": 7,
   "metadata": {},
   "outputs": [],
   "source": [
    "##########################################################\n",
    "MAX_LENGTH = 1024  # max context length for the tokenizer\n",
    "##########################################################\n",
    "lyrics = [l[:min(len(l), MAX_LENGTH)] for l in list(df_genre[\"Lyrics\"])]\n",
    "\n",
    "proprocessed_lyrics = tokenizer.tokenize(lyrics, get_token_ids=True)"
   ]
  },
  {
   "cell_type": "code",
   "execution_count": 8,
   "metadata": {},
   "outputs": [
    {
     "data": {
      "text/plain": [
       "21962"
      ]
     },
     "execution_count": 8,
     "metadata": {},
     "output_type": "execute_result"
    }
   ],
   "source": [
    "lyrics_token_ids = proprocessed_lyrics[\"token_ids\"]\n",
    "len(lyrics_token_ids)"
   ]
  },
  {
   "cell_type": "code",
   "execution_count": 9,
   "metadata": {},
   "outputs": [
    {
     "name": "stdout",
     "output_type": "stream",
     "text": [
      "17569 4393\n"
     ]
    }
   ],
   "source": [
    "shuffle_idx = np.random.permutation(len(lyrics_token_ids))\n",
    "\n",
    "####################################################################\n",
    "training_size = int(len(lyrics_token_ids) * 0.8)\n",
    "validation_size = len(lyrics_token_ids) - training_size\n",
    "####################################################################\n",
    "\n",
    "training_data = [lyrics_token_ids[i] for i in shuffle_idx[ : training_size]]\n",
    "validation_data = [lyrics_token_ids[i] for i in shuffle_idx[training_size :]]\n",
    "\n",
    "print(len(training_data), len(validation_data))"
   ]
  },
  {
   "cell_type": "code",
   "execution_count": 10,
   "metadata": {},
   "outputs": [],
   "source": [
    "embedder = embeddings.Embedding()\n",
    "embedder.load(\"Weights/embeddings_300_w2v.txt\")"
   ]
  },
  {
   "cell_type": "code",
   "execution_count": 11,
   "metadata": {},
   "outputs": [
    {
     "data": {
      "text/plain": [
       "(300, 39903)"
      ]
     },
     "execution_count": 11,
     "metadata": {},
     "output_type": "execute_result"
    }
   ],
   "source": [
    "embedder.embeddings_size, embedder.vocab_size"
   ]
  },
  {
   "attachments": {},
   "cell_type": "markdown",
   "metadata": {},
   "source": [
    "## Loading the Best Model (`LSTM`)"
   ]
  },
  {
   "cell_type": "code",
   "execution_count": 12,
   "metadata": {},
   "outputs": [],
   "source": [
    "from modeling.models import LSTM\n",
    "import modeling.model_utils as model_utils"
   ]
  },
  {
   "cell_type": "code",
   "execution_count": 13,
   "metadata": {},
   "outputs": [
    {
     "data": {
      "text/plain": [
       "<All keys matched successfully>"
      ]
     },
     "execution_count": 13,
     "metadata": {},
     "output_type": "execute_result"
    }
   ],
   "source": [
    "device = \"cuda:0\" if torch.cuda.is_available() else \"cpu\"\n",
    "\n",
    "###################################################################################\n",
    "model = LSTM(\n",
    "    embedding_dim = embedder.embeddings_size,\n",
    "    hidden_dim = 4 * embedder.embeddings_size,\n",
    "    vocab_size = embedder.vocab_size,\n",
    "    pretrained_embeddings = None, # all the weights are going to get populated anyways\n",
    ")\n",
    "###################################################################################\n",
    "\n",
    "model.to(device)\n",
    "\n",
    "# loading pretrained weights\n",
    "model.load_state_dict(torch.load(f\"Weights/lstm_embed_freeze/weights.pth\"))"
   ]
  },
  {
   "cell_type": "code",
   "execution_count": 14,
   "metadata": {},
   "outputs": [
    {
     "data": {
      "text/plain": [
       "78633603"
      ]
     },
     "execution_count": 14,
     "metadata": {},
     "output_type": "execute_result"
    }
   ],
   "source": [
    "model_utils.get_parameter_count(model)"
   ]
  },
  {
   "cell_type": "code",
   "execution_count": 15,
   "metadata": {},
   "outputs": [
    {
     "name": "stderr",
     "output_type": "stream",
     "text": [
      "100%|██████████| 138/138 [00:09<00:00, 14.89it/s]\n"
     ]
    },
    {
     "data": {
      "text/plain": [
       "69.42685050562592"
      ]
     },
     "execution_count": 15,
     "metadata": {},
     "output_type": "execute_result"
    }
   ],
   "source": [
    "init_perplexity = model_utils.perplexity(\n",
    "    model, validation_data,\n",
    ")\n",
    "init_perplexity"
   ]
  },
  {
   "attachments": {},
   "cell_type": "markdown",
   "metadata": {},
   "source": [
    "## Lightweight Finetuning\n",
    "\n",
    "We are going to freeze the params of the `lstm` language model and introduce additional parameters as previous `cell states` and `hidden states` that will nudge the model to generate genre-specific lyrics."
   ]
  },
  {
   "cell_type": "code",
   "execution_count": 16,
   "metadata": {},
   "outputs": [
    {
     "data": {
      "text/plain": [
       "(torch.Size([2, 1, 1200]), torch.Size([2, 1, 1200]))"
      ]
     },
     "execution_count": 16,
     "metadata": {},
     "output_type": "execute_result"
    }
   ],
   "source": [
    "cell_state, h0_state = model_utils.get_fresh_initial_hidden_states(\n",
    "    model, \n",
    "    batch_size=1  # we want to learn only one cell and hidden states which will be used to generate all the songs in the genre \n",
    ")\n",
    "cell_state.shape, h0_state.shape"
   ]
  },
  {
   "cell_type": "code",
   "execution_count": 17,
   "metadata": {},
   "outputs": [],
   "source": [
    "# randomly initializing to break the symmetry\n",
    "\n",
    "cell_state = torch.FloatTensor(cell_state.shape).uniform_(-1, 1).to(device)\n",
    "h0_state.hidden_state = torch.FloatTensor(h0_state.shape).uniform_(-1, 1).to(device)\n",
    "\n",
    "cell_state.requires_grad = True\n",
    "h0_state.requires_grad = True"
   ]
  },
  {
   "cell_type": "code",
   "execution_count": 18,
   "metadata": {},
   "outputs": [],
   "source": [
    "learning_rate = 0.001\n",
    "num_epochs = 10\n",
    "batch_size = 128\n",
    "\n",
    "cross_entropy = torch.nn.CrossEntropyLoss().to(device)\n",
    "tunable_params = [\n",
    "    cell_state, h0_state  # only tune the randomly initialized cell and hidden states\n",
    "]\n",
    "\n",
    "optimizer = torch.optim.Adam(tunable_params, lr = learning_rate)"
   ]
  },
  {
   "cell_type": "code",
   "execution_count": 19,
   "metadata": {},
   "outputs": [
    {
     "name": "stdout",
     "output_type": "stream",
     "text": [
      "Epoch 1:\n"
     ]
    },
    {
     "name": "stderr",
     "output_type": "stream",
     "text": [
      "100%|██████████| 138/138 [01:31<00:00,  1.51it/s]\n"
     ]
    },
    {
     "name": "stdout",
     "output_type": "stream",
     "text": [
      "calculating perplexity on validation set\n"
     ]
    },
    {
     "name": "stderr",
     "output_type": "stream",
     "text": [
      "100%|██████████| 35/35 [00:13<00:00,  2.51it/s]\n"
     ]
    },
    {
     "name": "stdout",
     "output_type": "stream",
     "text": [
      "perplexity = 67.74473026036858\n",
      "-----------------------------------------\n",
      "Epoch 2:\n"
     ]
    },
    {
     "name": "stderr",
     "output_type": "stream",
     "text": [
      "100%|██████████| 138/138 [01:31<00:00,  1.50it/s]\n"
     ]
    },
    {
     "name": "stdout",
     "output_type": "stream",
     "text": [
      "calculating perplexity on validation set\n"
     ]
    },
    {
     "name": "stderr",
     "output_type": "stream",
     "text": [
      "100%|██████████| 35/35 [00:13<00:00,  2.50it/s]\n"
     ]
    },
    {
     "name": "stdout",
     "output_type": "stream",
     "text": [
      "perplexity = 67.20205314546327\n",
      "-----------------------------------------\n",
      "Epoch 3:\n"
     ]
    },
    {
     "name": "stderr",
     "output_type": "stream",
     "text": [
      "100%|██████████| 138/138 [01:33<00:00,  1.48it/s]\n"
     ]
    },
    {
     "name": "stdout",
     "output_type": "stream",
     "text": [
      "calculating perplexity on validation set\n"
     ]
    },
    {
     "name": "stderr",
     "output_type": "stream",
     "text": [
      "100%|██████████| 35/35 [00:14<00:00,  2.42it/s]\n"
     ]
    },
    {
     "name": "stdout",
     "output_type": "stream",
     "text": [
      "perplexity = 66.86670866737047\n",
      "-----------------------------------------\n",
      "Epoch 4:\n"
     ]
    },
    {
     "name": "stderr",
     "output_type": "stream",
     "text": [
      "100%|██████████| 138/138 [01:31<00:00,  1.51it/s]\n"
     ]
    },
    {
     "name": "stdout",
     "output_type": "stream",
     "text": [
      "calculating perplexity on validation set\n"
     ]
    },
    {
     "name": "stderr",
     "output_type": "stream",
     "text": [
      "100%|██████████| 35/35 [00:14<00:00,  2.42it/s]\n"
     ]
    },
    {
     "name": "stdout",
     "output_type": "stream",
     "text": [
      "perplexity = 66.70428035594529\n",
      "-----------------------------------------\n",
      "Epoch 5:\n"
     ]
    },
    {
     "name": "stderr",
     "output_type": "stream",
     "text": [
      "100%|██████████| 138/138 [01:32<00:00,  1.49it/s]\n"
     ]
    },
    {
     "name": "stdout",
     "output_type": "stream",
     "text": [
      "calculating perplexity on validation set\n"
     ]
    },
    {
     "name": "stderr",
     "output_type": "stream",
     "text": [
      "100%|██████████| 35/35 [00:14<00:00,  2.47it/s]\n"
     ]
    },
    {
     "name": "stdout",
     "output_type": "stream",
     "text": [
      "perplexity = 66.58507293385414\n",
      "-----------------------------------------\n",
      "Epoch 6:\n"
     ]
    },
    {
     "name": "stderr",
     "output_type": "stream",
     "text": [
      "100%|██████████| 138/138 [01:31<00:00,  1.51it/s]\n"
     ]
    },
    {
     "name": "stdout",
     "output_type": "stream",
     "text": [
      "calculating perplexity on validation set\n"
     ]
    },
    {
     "name": "stderr",
     "output_type": "stream",
     "text": [
      "100%|██████████| 35/35 [00:14<00:00,  2.44it/s]\n"
     ]
    },
    {
     "name": "stdout",
     "output_type": "stream",
     "text": [
      "perplexity = 66.49271534441812\n",
      "-----------------------------------------\n",
      "Epoch 7:\n"
     ]
    },
    {
     "name": "stderr",
     "output_type": "stream",
     "text": [
      "100%|██████████| 138/138 [01:32<00:00,  1.50it/s]\n"
     ]
    },
    {
     "name": "stdout",
     "output_type": "stream",
     "text": [
      "calculating perplexity on validation set\n"
     ]
    },
    {
     "name": "stderr",
     "output_type": "stream",
     "text": [
      "100%|██████████| 35/35 [00:14<00:00,  2.42it/s]\n"
     ]
    },
    {
     "name": "stdout",
     "output_type": "stream",
     "text": [
      "perplexity = 66.41876910448703\n",
      "-----------------------------------------\n",
      "Epoch 8:\n"
     ]
    },
    {
     "name": "stderr",
     "output_type": "stream",
     "text": [
      "100%|██████████| 138/138 [01:32<00:00,  1.49it/s]\n"
     ]
    },
    {
     "name": "stdout",
     "output_type": "stream",
     "text": [
      "calculating perplexity on validation set\n"
     ]
    },
    {
     "name": "stderr",
     "output_type": "stream",
     "text": [
      "100%|██████████| 35/35 [00:14<00:00,  2.41it/s]\n"
     ]
    },
    {
     "name": "stdout",
     "output_type": "stream",
     "text": [
      "perplexity = 66.35454805050864\n",
      "-----------------------------------------\n",
      "Epoch 9:\n"
     ]
    },
    {
     "name": "stderr",
     "output_type": "stream",
     "text": [
      "100%|██████████| 138/138 [01:33<00:00,  1.48it/s]\n"
     ]
    },
    {
     "name": "stdout",
     "output_type": "stream",
     "text": [
      "calculating perplexity on validation set\n"
     ]
    },
    {
     "name": "stderr",
     "output_type": "stream",
     "text": [
      "100%|██████████| 35/35 [00:14<00:00,  2.47it/s]\n"
     ]
    },
    {
     "name": "stdout",
     "output_type": "stream",
     "text": [
      "perplexity = 66.30663473311941\n",
      "-----------------------------------------\n",
      "Epoch 10:\n"
     ]
    },
    {
     "name": "stderr",
     "output_type": "stream",
     "text": [
      "100%|██████████| 138/138 [01:33<00:00,  1.48it/s]\n"
     ]
    },
    {
     "name": "stdout",
     "output_type": "stream",
     "text": [
      "calculating perplexity on validation set\n"
     ]
    },
    {
     "name": "stderr",
     "output_type": "stream",
     "text": [
      "100%|██████████| 35/35 [00:14<00:00,  2.45it/s]"
     ]
    },
    {
     "name": "stdout",
     "output_type": "stream",
     "text": [
      "perplexity = 66.2691399759058\n",
      "-----------------------------------------\n"
     ]
    },
    {
     "name": "stderr",
     "output_type": "stream",
     "text": [
      "\n"
     ]
    }
   ],
   "source": [
    "loss_track = []\n",
    "perplexity_track = [init_perplexity]\n",
    "\n",
    "for epoch in range(num_epochs):\n",
    "    print(f\"Epoch {epoch + 1}:\")\n",
    "    model.train()\n",
    "    loss = 0\n",
    "    for batch_start in tqdm(range(0, len(training_data), batch_size)):\n",
    "        batch_end = min(len(training_data), batch_start + batch_size)\n",
    "        cur_batch_size = batch_end - batch_start\n",
    "\n",
    "        tokenized = training_data[batch_start : batch_end]\n",
    "        min_length = np.array([len(t) for t in tokenized]).min()\n",
    "        batch = torch.stack(\n",
    "            [torch.tensor(t[:min_length]) for t in tokenized]\n",
    "        ).to(device)\n",
    "\n",
    "        # use the initialized cell and hidden states repeatedly\n",
    "        hidden_state = (\n",
    "            cell_state.repeat(1, cur_batch_size, 1),\n",
    "            h0_state.repeat(1, cur_batch_size, 1)\n",
    "        )\n",
    "        \n",
    "        for i in range(min_length - 1):\n",
    "            x = batch[:, i][None].T\n",
    "            y_true = batch[:, i+1][None].T\n",
    "            y_pred, hidden_state = model(x, hidden_state)\n",
    "            for pred, true in zip(y_pred, y_true):\n",
    "                loss += cross_entropy(pred.squeeze(), true[0])\n",
    "        \n",
    "        loss_track.append(loss.item()/cur_batch_size)\n",
    "\n",
    "        optimizer.zero_grad()\n",
    "        loss.backward()\n",
    "        optimizer.step()\n",
    "            \n",
    "        model.zero_grad()\n",
    "        loss = 0\n",
    "    \n",
    "    print(\"calculating perplexity on validation set\")\n",
    "    pp = model_utils.perplexity(\n",
    "        model, validation_data, \n",
    "        batch_size=batch_size, consider_length=64, \n",
    "        context_state=(cell_state, h0_state)\n",
    "    )\n",
    "    print(f\"perplexity = {pp}\") \n",
    "    perplexity_track.append(pp)\n",
    "    print(\"-----------------------------------------\")"
   ]
  },
  {
   "cell_type": "code",
   "execution_count": 20,
   "metadata": {},
   "outputs": [],
   "source": [
    "import os\n",
    "import json\n",
    "\n",
    "save_dir = f\"Weights/genre_specific/lstm/{genre}/\"\n",
    "os.makedirs(save_dir, exist_ok=True)\n",
    "\n",
    "torch.save({\"cell_state\": cell_state.detach().cpu(), \"h0_state\": h0_state.detach().cpu()}, f\"{save_dir}/context.pth\")\n",
    "with open(f\"{save_dir}/logs.json\", \"w\") as f:\n",
    "    json.dump({\n",
    "        \"loss_track\": loss_track,\n",
    "        \"perplexity_track\": perplexity_track\n",
    "    }, f)"
   ]
  },
  {
   "cell_type": "code",
   "execution_count": 21,
   "metadata": {},
   "outputs": [
    {
     "data": {
      "text/plain": [
       "Text(0, 0.5, 'Loss')"
      ]
     },
     "execution_count": 21,
     "metadata": {},
     "output_type": "execute_result"
    },
    {
     "data": {
      "image/png": "[encoded data removed]",
      "text/plain": [
       "<Figure size 640x480 with 1 Axes>"
      ]
     },
     "metadata": {},
     "output_type": "display_data"
    }
   ],
   "source": [
    "import matplotlib.pyplot as plt\n",
    "\n",
    "plt.plot(loss_track)\n",
    "plt.ylabel(\"Loss\")"
   ]
  },
  {
   "cell_type": "code",
   "execution_count": 22,
   "metadata": {},
   "outputs": [
    {
     "data": {
      "text/plain": [
       "Text(0.5, 0, 'Epoch')"
      ]
     },
     "execution_count": 22,
     "metadata": {},
     "output_type": "execute_result"
    },
    {
     "data": {
      "image/png": "[encoded data removed]",
      "text/plain": [
       "<Figure size 640x480 with 1 Axes>"
      ]
     },
     "metadata": {},
     "output_type": "display_data"
    }
   ],
   "source": [
    "plt.plot(perplexity_track)\n",
    "plt.ylabel(\"Perplexity\")\n",
    "plt.xlabel(\"Epoch\")"
   ]
  },
  {
   "attachments": {},
   "cell_type": "markdown",
   "metadata": {},
   "source": [
    "## Generation"
   ]
  },
  {
   "cell_type": "code",
   "execution_count": 23,
   "metadata": {},
   "outputs": [
    {
     "data": {
      "text/plain": [
       "(torch.Size([2, 1, 1200]), torch.Size([2, 1, 1200]))"
      ]
     },
     "execution_count": 23,
     "metadata": {},
     "output_type": "execute_result"
    }
   ],
   "source": [
    "context = torch.load(f\"Weights/genre_specific/lstm/{genre}/context.pth\")\n",
    "c0 = context[\"cell_state\"].to(device)\n",
    "h0 = context[\"h0_state\"].to(device)\n",
    "c0.shape, h0.shape"
   ]
  },
  {
   "cell_type": "code",
   "execution_count": 24,
   "metadata": {},
   "outputs": [
    {
     "name": "stdout",
     "output_type": "stream",
     "text": [
      "[('_I', 0.0614), ('_', 0.0574), ('You', 0.0334), ('I', 0.0213), ('_Hey', 0.0167), ('Hey', 0.0165), ('_You', 0.0159), ('The', 0.0151), ('_(', 0.0148), ('There', 0.0143)]\n",
      "[('_am', 0.2201), ('_have', 0.0595), ('_do', 0.055), ('_was', 0.0495), ('_can', 0.0475), ('_will', 0.0409), ('_got', 0.0382), ('_know', 0.0271), ('_cannot', 0.0269), ('_want', 0.0251)]\n",
      "[('_a', 0.3017), ('_to', 0.1586), ('_my', 0.0656), ('_the', 0.0593), ('_something', 0.0419), ('_some', 0.021), ('_your', 0.0184), ('_an', 0.0184), ('_this', 0.013), ('_you', 0.0116)]\n",
      "[('_feeling', 0.0564), ('_blues', 0.0397), ('_news', 0.0192), ('_records', 0.0145), ('_best', 0.0133), ('_keys', 0.0133), ('_question', 0.0127), ('_money', 0.0121), ('_power', 0.0118), ('_devil', 0.0117)]\n",
      "[(',', 0.2124), ('_I', 0.0752), ('_and', 0.061), ('_to', 0.0427), ('_on', 0.0363), ('_from', 0.0266), ('_(', 0.0263), ('_in', 0.0256), ('_you', 0.0202), ('_at', 0.018)]\n",
      "[('_the', 0.3538), ('_my', 0.0768), ('_go', 0.0498), ('_get', 0.0256), ('_you', 0.0182), ('_sing', 0.0148), ('_all', 0.0121), ('_keep', 0.0104), ('_make', 0.0101), ('_be', 0.0093)]\n",
      "[('_my', 0.1786), ('_me', 0.1165), ('_the', 0.112), ('_it', 0.0887), ('_your', 0.0732), ('_on', 0.0625), ('_you', 0.0541), ('_moving', 0.0229), ('_them', 0.0121), ('_in', 0.0111)]\n",
      "[('_head', 0.1696), ('_mouth', 0.072), ('_hands', 0.0711), ('_feet', 0.0582), ('_eyes', 0.0297), ('_mind', 0.0255), ('_body', 0.017), ('_voice', 0.0143), ('_hand', 0.0135), ('_blues', 0.0112)]\n",
      "[('_up', 0.3855), ('_on', 0.0934), ('_in', 0.0805), ('_around', 0.075), ('_down', 0.0493), ('_out', 0.0281), ('_off', 0.0261), ('_I', 0.0141), ('_right', 0.0079), ('_away', 0.0076)]\n",
      "[('_the', 0.1382), ('_me', 0.1206), ('_my', 0.1063), ('_I', 0.0977), ('_you', 0.0738), ('_And', 0.028), (',', 0.0187), ('_The', 0.0162), ('_your', 0.0146), ('_You', 0.0125)]\n",
      "[('_got', 0.2232), ('_am', 0.1055), ('_want', 0.0654), ('_have', 0.0514), ('_cannot', 0.0504), ('_do', 0.0488), ('_know', 0.0269), ('_just', 0.0225), ('_never', 0.021), ('_can', 0.0188)]\n",
      "[('_going', 0.194), ('_the', 0.0557), ('_a', 0.0409), ('_not', 0.0404), ('_in', 0.03), ('_just', 0.0284), ('_on', 0.0241), ('_about', 0.0189), ('_taking', 0.0187), ('_looking', 0.0183)]\n",
      "[('_to', 0.9215), ('_down', 0.0143), ('_up', 0.0108), ('_out', 0.0099), ('_back', 0.0053), ('_home', 0.0051), ('_on', 0.0044), ('_through', 0.0017), ('_crazy', 0.0016), ('_in', 0.0015)]\n",
      "[('_take', 0.0926), ('_be', 0.0882), ('_give', 0.0585), ('_get', 0.0402), ('_tell', 0.0368), ('_make', 0.0336), ('_have', 0.0225), ('_set', 0.0201), ('_break', 0.0195), ('_let', 0.0192)]\n",
      "[('_you', 0.4175), ('_it', 0.3078), ('_the', 0.0698), ('_them', 0.0374), ('_your', 0.0301), ('_my', 0.0274), ('_go', 0.0156), ('_me', 0.014), ('_this', 0.0124), ('_him', 0.0076)]\n",
      "[('_go', 0.1888), ('_know', 0.1008), ('_get', 0.0824), ('_in', 0.0665), ('_down', 0.0565), ('_take', 0.0353), ('_all', 0.0233), ('_see', 0.0207), ('_be', 0.0138), ('_ride', 0.0134)]\n",
      "[('_me', 0.1858), ('_the', 0.1169), ('_what', 0.1085), ('_my', 0.0928), ('_you', 0.0791), (',', 0.0486), ('_that', 0.0462), ('_I', 0.0446), ('_your', 0.0425), ('_it', 0.0278)]\n",
      "[('_coming', 0.0788), (',', 0.0553), ('_now', 0.0394), ('_in', 0.03), ('_going', 0.0289), ('_down', 0.0286), ('_want', 0.0242), ('_out', 0.0193), ('_com', 0.0179), ('_I', 0.0176)]\n",
      "[('_I', 0.3076), (',', 0.1007), ('_', 0.0519), ('_in', 0.0297), ('_and', 0.0285), ('_the', 0.0281), ('_to', 0.0187), ('_on', 0.0168), ('_there', 0.016), ('_(', 0.0152)]\n",
      "[('_down', 0.2983), ('_I', 0.0585), ('_out', 0.0382), ('_round', 0.034), ('_on', 0.0335), ('_you', 0.028), ('_let', 0.0227), ('_the', 0.0214), ('_around', 0.0158), ('_up', 0.0136)]\n",
      "[('_I', 0.2013), ('_', 0.1406), ('_the', 0.0795), (',', 0.0397), ('_and', 0.0304), ('_to', 0.0254), ('_You', 0.0218), ('_my', 0.0171), ('_The', 0.0161), ('_again', 0.016)]\n",
      "[('_I', 0.2549), ('_You', 0.051), ('_The', 0.0272), ('_It', 0.0267), ('_Well', 0.0249), ('_', 0.0206), ('_If', 0.0203), ('_Because', 0.0183), ('_And', 0.0179), ('_Come', 0.0151)]\n",
      "[('_I', 0.3037), ('_you', 0.1682), ('_it', 0.0606), ('_the', 0.0578), ('_this', 0.0257), (',', 0.0234), ('_when', 0.0217), ('_if', 0.021), ('_now', 0.0206), ('_we', 0.0205)]\n",
      "[('_sun', 0.0721), ('_world', 0.0309), ('_lights', 0.0299), ('_night', 0.0236), ('_rain', 0.0227), ('_wind', 0.0227), ('_music', 0.0182), ('_road', 0.0164), ('_truth', 0.0147), ('_way', 0.014)]\n",
      "[('_is', 0.3378), (\"'s\", 0.0938), ('_has', 0.0335), ('_comes', 0.0334), ('_are', 0.0271), ('_goes', 0.027), ('_will', 0.0237), ('_do', 0.0225), ('_was', 0.0163), ('_refused', 0.0157)]\n",
      "[('_been', 0.2243), ('_come', 0.1162), ('_gone', 0.0689), ('_to', 0.0371), ('_got', 0.0369), ('_not', 0.026), ('_turned', 0.0214), ('_finally', 0.0192), ('_fallen', 0.0152), ('_never', 0.0142)]\n",
      "[('_been', 0.1676), ('_come', 0.0869), ('_got', 0.0367), ('_shine', 0.036), ('_changed', 0.0345), ('_ever', 0.0296), ('_closed', 0.0154), ('_seen', 0.0125), ('_going', 0.0124), ('_blow', 0.0113)]\n",
      "[('_a', 0.0639), ('_the', 0.0632), ('_so', 0.0571), ('_around', 0.0423), ('_there', 0.0264), ('_enough', 0.024), ('_up', 0.0185), ('_here', 0.0174), ('_in', 0.0149), ('_like', 0.0119)]\n",
      "[('_long', 0.4259), ('_far', 0.0759), ('_much', 0.0733), ('_bright', 0.0383), ('_good', 0.025), ('_easy', 0.0183), ('_heavy', 0.0175), ('_big', 0.0158), ('_low', 0.015), ('_cold', 0.0142)]\n",
      "[('_to', 0.1057), ('_more', 0.0615), ('_I', 0.0428), ('_pain', 0.0407), ('_fun', 0.0372), ('_And', 0.0367), ('_of', 0.0365), ('_better', 0.0291), ('_too', 0.0234), ('_But', 0.0226)]\n",
      "[('_than', 0.2374), ('_I', 0.0891), ('_And', 0.0582), ('_time', 0.036), ('_Than', 0.0296), ('_But', 0.0243), ('_The', 0.0185), ('_to', 0.0174), ('_It', 0.0135), ('_So', 0.012)]\n",
      "[('_sun', 0.039), ('_days', 0.0373), ('_day', 0.0337), ('_time', 0.0271), ('_night', 0.027), ('_more', 0.0244), ('_only', 0.023), ('_moon', 0.0227), ('_pain', 0.0205), ('_way', 0.0173)]\n",
      "[('_I', 0.2049), ('_has', 0.1672), ('_is', 0.0671), (\"'s\", 0.0606), ('_that', 0.0605), ('_you', 0.0441), ('_was', 0.038), ('_we', 0.0368), (',', 0.0304), ('_of', 0.0247)]\n",
      "[('_gone', 0.2127), ('_been', 0.1449), ('_going', 0.1056), ('_a', 0.0286), ('_all', 0.0208), ('_on', 0.0182), ('_the', 0.0172), ('_just', 0.0162), ('_coming', 0.0161), ('_got', 0.0139)]\n",
      "[('_and', 0.1909), (',', 0.1683), ('_I', 0.0482), ('_And', 0.034), ('_too', 0.0235), ('_gone', 0.0196), ('_The', 0.0191), ('_to', 0.0152), ('_before', 0.0146), ('_from', 0.0132)]\n",
      "[('_I', 0.1356), ('_the', 0.0938), ('_it', 0.057), ('_so', 0.0551), ('_you', 0.0455), ('_gone', 0.0362), ('_my', 0.0336), ('_and', 0.0282), ('_but', 0.0229), ('_we', 0.0183)]\n",
      "[('_day', 0.0744), ('_night', 0.0505), ('_days', 0.0376), ('_sun', 0.036), ('_time', 0.033), ('_world', 0.0287), ('_road', 0.0229), ('_moon', 0.0192), ('_more', 0.0177), ('_way', 0.0175)]\n",
      "[('_is', 0.3405), (\"'s\", 0.1495), ('_has', 0.0825), ('_was', 0.0796), ('_goes', 0.0264), ('_are', 0.0193), ('_I', 0.019), ('_comes', 0.0157), ('_to', 0.0143), ('_will', 0.0142)]\n",
      "[('_cold', 0.0645), ('_gone', 0.0582), ('_long', 0.0503), ('_not', 0.0305), ('_too', 0.0262), ('_all', 0.0222), ('_going', 0.0212), ('_still', 0.021), ('_up', 0.0204), ('_on', 0.017)]\n",
      "[('_gone', 0.1843), ('_over', 0.0533), ('_I', 0.0472), ('_around', 0.028), ('_on', 0.0249), ('_too', 0.0213), ('_alone', 0.0203), ('_up', 0.0169), ('_day', 0.0161), ('_And', 0.0135)]\n",
      "[('_have', 0.1245), ('_am', 0.059), ('_was', 0.0477), ('_know', 0.0462), ('_said', 0.0374), ('_could', 0.0322), ('_would', 0.0306), ('_had', 0.0303), ('_used', 0.0302), ('_felt', 0.0251)]\n",
      "[('_been', 0.2769), ('_seen', 0.0724), ('_ever', 0.0603), ('_to', 0.0587), ('_left', 0.0517), ('_done', 0.0397), ('_got', 0.0342), ('_had', 0.0342), ('_gone', 0.0267), ('_found', 0.0254)]\n",
      "[('_waiting', 0.1249), ('_through', 0.0467), ('_looking', 0.0288), ('_around', 0.0263), ('_gone', 0.0238), ('_and', 0.0154), ('_here', 0.0151), ('_down', 0.0151), ('_running', 0.0148), ('_on', 0.0145)]\n",
      "[('_before', 0.2442), ('_for', 0.1844), ('_to', 0.0662), (',', 0.043), ('_since', 0.0386), ('_with', 0.0307), ('_and', 0.0298), ('_in', 0.0296), ('_I', 0.0258), ('_on', 0.016)]\n",
      "[('_am', 0.2225), ('_have', 0.1676), ('_was', 0.0602), ('_cannot', 0.0396), ('_would', 0.0365), ('_will', 0.0302), ('_know', 0.0295), ('_could', 0.0288), ('_do', 0.0267), ('_go', 0.02)]\n",
      "[('_to', 0.2358), ('_and', 0.1154), (',', 0.1065), ('_I', 0.0381), ('_out', 0.0297), ('_home', 0.0216), ('_back', 0.0211), ('_for', 0.0159), ('_on', 0.0121), ('_again', 0.0112)]\n",
      "[('_I', 0.2149), ('_and', 0.0725), ('_the', 0.0494), ('_here', 0.0322), ('_there', 0.0263), ('_yeah', 0.0262), ('_to', 0.0221), ('_you', 0.0208), ('_my', 0.0166), ('_but', 0.0151)]\n",
      "[(',', 0.4776), ('_I', 0.1442), ('_', 0.078), ('_And', 0.0205), ('_yeah', 0.0194), ('_and', 0.0079), ('_The', 0.0075), ('_Well', 0.0071), ('_It', 0.0068), ('_You', 0.0067)]\n",
      "[('_I', 0.2842), ('_yeah', 0.0828), ('_and', 0.0659), ('_you', 0.0444), ('_the', 0.0386), ('_here', 0.0319), ('_we', 0.0262), ('_it', 0.0198), ('_my', 0.0145), ('_go', 0.0135)]\n",
      "[(',', 0.4238), ('_', 0.1192), ('_I', 0.1108), ('_yeah', 0.0228), ('_And', 0.0227), ('_Yeah', 0.0137), ('_Well', 0.013), ('_Oh', 0.0109), ('_The', 0.0102), ('_You', 0.0084)]\n"
     ]
    },
    {
     "data": {
      "text/plain": [
       "\" I got the blues to keep my hands around I am going to let you see me down and down  Because the sun has not been so much more The day's gone, the road was all I have been here I go, yeah, yeah, I got the blues to keep my hands around I am going to let you see me down and down  Because the sun has not been so much more The day's gone, the road was all I have been here I go, yeah, yeah,\""
      ]
     },
     "execution_count": 24,
     "metadata": {},
     "output_type": "execute_result"
    }
   ],
   "source": [
    "from modeling.model_utils import generate\n",
    "\n",
    "gen_lyrics = generate(model, tokenizer, top_k = 10, max_new_tokens=50, debug = True, context_state=(c0, h0))\n",
    "gen_lyrics[\"text\"]"
   ]
  },
  {
   "cell_type": "code",
   "execution_count": 25,
   "metadata": {},
   "outputs": [],
   "source": [
    "generated_lyrics = [\n",
    "    generate(model, tokenizer, top_k = 10, max_new_tokens=50, context_state=(c0, h0))[\"text\"]\n",
    "    for _ in range(50)\n",
    "]\n",
    "\n",
    "os.makedirs(\"Results/genre_specific/lstm/\", exist_ok=True)\n",
    "with open(f\"Results/genre_specific/lstm/{genre}.json\", \"w\") as f:\n",
    "    json.dump(generated_lyrics, f)"
   ]
  },
  {
   "cell_type": "code",
   "execution_count": null,
   "metadata": {},
   "outputs": [],
   "source": []
  }
 ],
 "metadata": {
  "kernelspec": {
   "display_name": "tensorflow",
   "language": "python",
   "name": "python3"
  },
  "language_info": {
   "codemirror_mode": {
    "name": "ipython",
    "version": 3
   },
   "file_extension": ".py",
   "mimetype": "text/x-python",
   "name": "python",
   "nbconvert_exporter": "python",
   "pygments_lexer": "ipython3",
   "version": "3.9.16"
  }
 },
 "nbformat": 4,
 "nbformat_minor": 2
}
