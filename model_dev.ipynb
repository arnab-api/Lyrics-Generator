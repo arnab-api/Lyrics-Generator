{
 "cells": [
  {
   "cell_type": "code",
   "execution_count": 1,
   "metadata": {},
   "outputs": [],
   "source": [
    "%load_ext autoreload\n",
    "%autoreload 2"
   ]
  },
  {
   "cell_type": "code",
   "execution_count": 2,
   "metadata": {},
   "outputs": [
    {
     "name": "stderr",
     "output_type": "stream",
     "text": [
      "/home/local_arnab/miniconda3/envs/tensorflow/lib/python3.9/site-packages/tqdm/auto.py:21: TqdmWarning: IProgress not found. Please update jupyter and ipywidgets. See https://ipywidgets.readthedocs.io/en/stable/user_install.html\n",
      "  from .autonotebook import tqdm as notebook_tqdm\n"
     ]
    }
   ],
   "source": [
    "import pandas as pd\n",
    "import torch\n",
    "import numpy as np\n",
    "from tqdm.auto import tqdm\n",
    "\n",
    "from preprocessing import tokenize, embeddings"
   ]
  },
  {
   "attachments": {},
   "cell_type": "markdown",
   "metadata": {},
   "source": [
    "## Loading Data"
   ]
  },
  {
   "cell_type": "code",
   "execution_count": 3,
   "metadata": {},
   "outputs": [
    {
     "name": "stdout",
     "output_type": "stream",
     "text": [
      "(80285, 4)\n"
     ]
    },
    {
     "data": {
      "text/html": [
       "<div>\n",
       "<style scoped>\n",
       "    .dataframe tbody tr th:only-of-type {\n",
       "        vertical-align: middle;\n",
       "    }\n",
       "\n",
       "    .dataframe tbody tr th {\n",
       "        vertical-align: top;\n",
       "    }\n",
       "\n",
       "    .dataframe thead th {\n",
       "        text-align: right;\n",
       "    }\n",
       "</style>\n",
       "<table border=\"1\" class=\"dataframe\">\n",
       "  <thead>\n",
       "    <tr style=\"text-align: right;\">\n",
       "      <th></th>\n",
       "      <th>Artist</th>\n",
       "      <th>Song</th>\n",
       "      <th>Lyrics</th>\n",
       "      <th>Genre</th>\n",
       "    </tr>\n",
       "  </thead>\n",
       "  <tbody>\n",
       "    <tr>\n",
       "      <th>0</th>\n",
       "      <td>Britney Spears</td>\n",
       "      <td>...Baby One More Time</td>\n",
       "      <td>Oh, baby, baby Oh, baby, baby  Oh, baby, baby...</td>\n",
       "      <td>Pop</td>\n",
       "    </tr>\n",
       "    <tr>\n",
       "      <th>1</th>\n",
       "      <td>Britney Spears</td>\n",
       "      <td>Toxic</td>\n",
       "      <td>Baby, can't you see I'm calling? A guy like y...</td>\n",
       "      <td>Pop</td>\n",
       "    </tr>\n",
       "    <tr>\n",
       "      <th>2</th>\n",
       "      <td>Britney Spears</td>\n",
       "      <td>Work Bitch</td>\n",
       "      <td>You wanna? You wanna?  You want a hot body? Y...</td>\n",
       "      <td>Pop</td>\n",
       "    </tr>\n",
       "    <tr>\n",
       "      <th>3</th>\n",
       "      <td>Britney Spears</td>\n",
       "      <td>Oops!... I Did It Again</td>\n",
       "      <td>Mmm, yeah Yeah, yeah, yeah, yeah, yeah, yeah ...</td>\n",
       "      <td>Pop</td>\n",
       "    </tr>\n",
       "    <tr>\n",
       "      <th>4</th>\n",
       "      <td>Britney Spears</td>\n",
       "      <td>If U Seek Amy</td>\n",
       "      <td>La, la, la, la, la-la, la, la La, la, la, la,...</td>\n",
       "      <td>Pop</td>\n",
       "    </tr>\n",
       "  </tbody>\n",
       "</table>\n",
       "</div>"
      ],
      "text/plain": [
       "           Artist                     Song  \\\n",
       "0  Britney Spears    ...Baby One More Time   \n",
       "1  Britney Spears                    Toxic   \n",
       "2  Britney Spears               Work Bitch   \n",
       "3  Britney Spears  Oops!... I Did It Again   \n",
       "4  Britney Spears            If U Seek Amy   \n",
       "\n",
       "                                              Lyrics Genre  \n",
       "0   Oh, baby, baby Oh, baby, baby  Oh, baby, baby...   Pop  \n",
       "1   Baby, can't you see I'm calling? A guy like y...   Pop  \n",
       "2   You wanna? You wanna?  You want a hot body? Y...   Pop  \n",
       "3   Mmm, yeah Yeah, yeah, yeah, yeah, yeah, yeah ...   Pop  \n",
       "4   La, la, la, la, la-la, la, la La, la, la, la,...   Pop  "
      ]
     },
     "execution_count": 3,
     "metadata": {},
     "output_type": "execute_result"
    }
   ],
   "source": [
    "df = pd.read_csv(\"Data/df_lyrics.csv\")\n",
    "print(df.shape)\n",
    "df.head()"
   ]
  },
  {
   "cell_type": "code",
   "execution_count": 4,
   "metadata": {},
   "outputs": [
    {
     "name": "stdout",
     "output_type": "stream",
     "text": [
      "Rap 18331\n",
      "Pop 18275\n",
      "Rock 21962\n",
      "Country 21717\n"
     ]
    }
   ],
   "source": [
    "for genre in set(df.Genre):\n",
    "    print(genre, df[df.Genre == genre].shape[0])"
   ]
  },
  {
   "attachments": {},
   "cell_type": "markdown",
   "metadata": {},
   "source": [
    "## Preprocessing"
   ]
  },
  {
   "cell_type": "code",
   "execution_count": 5,
   "metadata": {},
   "outputs": [
    {
     "name": "stderr",
     "output_type": "stream",
     "text": [
      "2023-04-08 19:39:56.693206: I tensorflow/stream_executor/platform/default/dso_loader.cc:49] Successfully opened dynamic library libcudart.so.10.1\n"
     ]
    },
    {
     "data": {
      "text/plain": [
       "{'tokens': [['<s>', 'I', '_am', '_a', '_little', '_te', 'ap', 'ot', '</s>']],\n",
       " 'token_ids': [[0, 432, 51, 57, 778, 2153, 1821, 6834, 87]]}"
      ]
     },
     "execution_count": 5,
     "metadata": {},
     "output_type": "execute_result"
    }
   ],
   "source": [
    "tokenizer = tokenize.Tokenizer()\n",
    "tokenizer.load(path = \"Weights/tokenizer.json\")\n",
    "tokenizer.tokenize(\"I'm a little teapot\", get_token_ids=True)"
   ]
  },
  {
   "cell_type": "code",
   "execution_count": 6,
   "metadata": {},
   "outputs": [],
   "source": [
    "##########################################################\n",
    "MAX_LENGTH = 1024  # max context length for the tokenizer\n",
    "##########################################################\n",
    "lyrics = [l[:min(len(l), MAX_LENGTH)] for l in list(df[\"Lyrics\"])]\n",
    "\n",
    "proprocessed_lyrics = tokenizer.tokenize(lyrics, get_token_ids=True)"
   ]
  },
  {
   "cell_type": "code",
   "execution_count": 7,
   "metadata": {},
   "outputs": [
    {
     "data": {
      "text/plain": [
       "80285"
      ]
     },
     "execution_count": 7,
     "metadata": {},
     "output_type": "execute_result"
    }
   ],
   "source": [
    "lyrics_token_ids = proprocessed_lyrics[\"token_ids\"]\n",
    "len(lyrics_token_ids)"
   ]
  },
  {
   "cell_type": "code",
   "execution_count": 8,
   "metadata": {},
   "outputs": [
    {
     "name": "stdout",
     "output_type": "stream",
     "text": [
      "45000 15000 20285\n"
     ]
    }
   ],
   "source": [
    "shuffle_idx = np.random.permutation(len(lyrics_token_ids))\n",
    "\n",
    "####################################################################\n",
    "training_size = 45000\n",
    "validation_size = 15000\n",
    "test_size = len(lyrics_token_ids) - training_size - validation_size\n",
    "####################################################################\n",
    "\n",
    "training_data = [lyrics_token_ids[i] for i in shuffle_idx[:training_size]]\n",
    "validation_data = [lyrics_token_ids[i] for i in shuffle_idx[training_size : training_size + validation_size]]\n",
    "test_data = [lyrics_token_ids[i] for i in shuffle_idx[training_size + validation_size : ]]\n",
    "\n",
    "print(len(training_data), len(validation_data), len(test_data))"
   ]
  },
  {
   "cell_type": "code",
   "execution_count": 9,
   "metadata": {},
   "outputs": [],
   "source": [
    "embedder = embeddings.Embedding()\n",
    "embedder.load(\"Weights/embeddings_w2v.txt\")"
   ]
  },
  {
   "cell_type": "code",
   "execution_count": 10,
   "metadata": {},
   "outputs": [
    {
     "data": {
      "text/plain": [
       "200"
      ]
     },
     "execution_count": 10,
     "metadata": {},
     "output_type": "execute_result"
    }
   ],
   "source": [
    "embedder.embeddings_size"
   ]
  },
  {
   "cell_type": "code",
   "execution_count": 11,
   "metadata": {},
   "outputs": [
    {
     "data": {
      "text/plain": [
       "39903"
      ]
     },
     "execution_count": 11,
     "metadata": {},
     "output_type": "execute_result"
    }
   ],
   "source": [
    "embedder.vocab_size"
   ]
  },
  {
   "cell_type": "code",
   "execution_count": 41,
   "metadata": {},
   "outputs": [
    {
     "data": {
      "text/plain": [
       "torch.Size([39903, 200])"
      ]
     },
     "execution_count": 41,
     "metadata": {},
     "output_type": "execute_result"
    }
   ],
   "source": [
    "embedding_matrix = []\n",
    "\n",
    "for idx in tokenizer.index_word:\n",
    "    word = tokenizer.index_word[idx]\n",
    "    vec = embedder.model.get_vector(word)\n",
    "    embedding_matrix.append(torch.tensor(vec))\n",
    "\n",
    "embedding_matrix = torch.stack(embedding_matrix)\n",
    "embedding_matrix.shape"
   ]
  },
  {
   "attachments": {},
   "cell_type": "markdown",
   "metadata": {},
   "source": [
    "## Modeling"
   ]
  },
  {
   "cell_type": "code",
   "execution_count": 265,
   "metadata": {},
   "outputs": [],
   "source": [
    "class RNN(torch.nn.Module):\n",
    "    def __init__(\n",
    "            self, \n",
    "            embedding_dim, hidden_dim, vocab_size, num_layers = 8,\n",
    "            pretrained_embeddings = None, # will initialize with random embeddings if None\n",
    "        ):\n",
    "        super(RNN, self).__init__()\n",
    "        self.hidden_dim = hidden_dim\n",
    "        self.num_layers = num_layers\n",
    "        \n",
    "        self.word_embeddings = torch.nn.Embedding(vocab_size, embedding_dim = embedding_dim)\n",
    "        if(pretrained_embeddings != None):\n",
    "            self.word_embeddings.weight = torch.nn.Parameter(pretrained_embeddings)\n",
    "        self.rnn = torch.nn.RNN(\n",
    "            input_size = embedding_dim, \n",
    "            hidden_size = hidden_dim,\n",
    "            num_layers = num_layers,\n",
    "            batch_first = True\n",
    "        )\n",
    "        self.decoder = torch.nn.Linear(hidden_dim, vocab_size)\n",
    "    \n",
    "    def forward(self, input, hidden):\n",
    "        embeds = self.word_embeddings(input)\n",
    "        output, hidden = self.rnn(embeds, hidden)\n",
    "        decoded = self.decoder(output)\n",
    "        return decoded, hidden"
   ]
  },
  {
   "cell_type": "code",
   "execution_count": 266,
   "metadata": {},
   "outputs": [
    {
     "data": {
      "text/plain": [
       "RNN(\n",
       "  (word_embeddings): Embedding(39903, 200)\n",
       "  (rnn): RNN(200, 200, num_layers=8, batch_first=True)\n",
       "  (decoder): Linear(in_features=200, out_features=39903, bias=True)\n",
       ")"
      ]
     },
     "execution_count": 266,
     "metadata": {},
     "output_type": "execute_result"
    }
   ],
   "source": [
    "device = \"cuda:0\" if torch.cuda.is_available() else \"cpu\"\n",
    "\n",
    "rnn = RNN(\n",
    "    embedding_dim = embedder.embeddings_size,\n",
    "    hidden_dim = embedder.embeddings_size,\n",
    "    vocab_size = embedder.vocab_size,\n",
    "    pretrained_embeddings = embedding_matrix,\n",
    ")\n",
    "rnn.to(device)"
   ]
  },
  {
   "cell_type": "code",
   "execution_count": 267,
   "metadata": {},
   "outputs": [
    {
     "data": {
      "text/plain": [
       "device(type='cuda', index=0)"
      ]
     },
     "execution_count": 267,
     "metadata": {},
     "output_type": "execute_result"
    }
   ],
   "source": [
    "next(rnn.parameters()).device"
   ]
  },
  {
   "cell_type": "code",
   "execution_count": 268,
   "metadata": {},
   "outputs": [
    {
     "name": "stdout",
     "output_type": "stream",
     "text": [
      "torch.Size([39903, 200])\n"
     ]
    }
   ],
   "source": [
    "model_embedder = rnn.word_embeddings\n",
    "for p in model_embedder.parameters():\n",
    "    print(p.shape)"
   ]
  },
  {
   "cell_type": "code",
   "execution_count": 269,
   "metadata": {},
   "outputs": [
    {
     "name": "stdout",
     "output_type": "stream",
     "text": [
      "(200,) torch.Size([200])\n",
      "0.0\n"
     ]
    }
   ],
   "source": [
    "word = \"hello\"\n",
    "emb1 = embedder.model.get_vector(word)\n",
    "emb2 = model_embedder(torch.tensor(tokenizer.word_index[word]).to(device))\n",
    "\n",
    "print(emb1.shape, emb2.shape)\n",
    "print(torch.dist(torch.tensor(emb1).to(device), emb2).item())"
   ]
  },
  {
   "cell_type": "code",
   "execution_count": 270,
   "metadata": {},
   "outputs": [
    {
     "data": {
      "text/plain": [
       "torch.Size([5, 270])"
      ]
     },
     "execution_count": 270,
     "metadata": {},
     "output_type": "execute_result"
    }
   ],
   "source": [
    "tokenized = tokenizer.tokenize(lyrics[0:5], get_token_ids=True)[\"token_ids\"]\n",
    "min_length = np.array([len(t) for t in tokenized]).min()\n",
    "batch = torch.stack(\n",
    "    [torch.tensor(t[:min_length]) for t in tokenized]\n",
    ")\n",
    "batch.shape"
   ]
  },
  {
   "cell_type": "code",
   "execution_count": 271,
   "metadata": {},
   "outputs": [
    {
     "data": {
      "text/plain": [
       "(torch.Size([5, 1, 39903]), torch.Size([8, 5, 200]))"
      ]
     },
     "execution_count": 271,
     "metadata": {},
     "output_type": "execute_result"
    }
   ],
   "source": [
    "# y, h = rnn(\n",
    "#     input = torch.tensor([[tokenizer.word_index[word]]]).to(device), \n",
    "#     hidden = torch.zeros(8, 1, rnn.hidden_dim).to(device)\n",
    "# )\n",
    "\n",
    "y, h = rnn(\n",
    "    input = batch[:, 10][None].T.to(device),\n",
    "    hidden = None\n",
    ")\n",
    "\n",
    "y.shape, h.shape"
   ]
  },
  {
   "cell_type": "code",
   "execution_count": 272,
   "metadata": {},
   "outputs": [
    {
     "data": {
      "text/plain": [
       "torch.Size([5, 1])"
      ]
     },
     "execution_count": 272,
     "metadata": {},
     "output_type": "execute_result"
    }
   ],
   "source": [
    "batch[:, 10][None].T.shape"
   ]
  },
  {
   "cell_type": "code",
   "execution_count": 273,
   "metadata": {},
   "outputs": [],
   "source": [
    "# cross_entropy(y.squeeze(), torch.tensor(10).to(device))"
   ]
  },
  {
   "attachments": {},
   "cell_type": "markdown",
   "metadata": {},
   "source": [
    "## Intrinsic Eval"
   ]
  },
  {
   "cell_type": "code",
   "execution_count": null,
   "metadata": {},
   "outputs": [],
   "source": [
    "def perplexity(\n",
    "        model, sentence_list,\n",
    "        tokenizer = None,  # if None, assume sentence_list is already tokenized\n",
    "        batch_size = 32,\n",
    "        consider_length = 16,   # if the length is too large the perplexity will be infinite\n",
    "    ):\n",
    "    model.eval()\n",
    "    device = next(model.parameters()).device\n",
    "    if(tokenizer is not None):\n",
    "        tokenized = tokenizer.tokenize([sentence_list], get_token_ids=True)\n",
    "        token_ids = tokenized[\"token_ids\"][0]\n",
    "    else:\n",
    "        token_ids = sentence_list\n",
    "\n",
    "    perplexity_track = []\n",
    "    for batch_start in tqdm(range(0, len(token_ids), batch_size)):\n",
    "        batch_end = min(len(token_ids), batch_start + batch_size)\n",
    "        cur_batch_size = batch_end - batch_start\n",
    "        min_length = min(consider_length, np.array([len(t) for t in token_ids[batch_start : batch_end]]).min())\n",
    "\n",
    "        batch = torch.stack(\n",
    "            [torch.tensor(t[:min_length]) for t in token_ids[batch_start : batch_end]]\n",
    "        ).to(device)\n",
    "        hidden_state = torch.zeros(\n",
    "            model.num_layers, cur_batch_size, model.hidden_dim\n",
    "        ).to(device)\n",
    "\n",
    "        log_true_proba = 0\n",
    "        for i in range(min_length - 1):\n",
    "            x = batch[:, i][None].T\n",
    "            y_true = batch[:, i+1][None].T\n",
    "            y_pred, hidden_state = rnn(x, hidden_state)\n",
    "            cur_log_proba = 0\n",
    "            for pred, true in zip(y_pred, y_true):\n",
    "                softmax = torch.nn.functional.softmax(pred.squeeze(), dim = 0)\n",
    "                # print(true[0].item(), softmax[true[0]].item(), torch.log(softmax[true[0]]).item())\n",
    "                cur_log_proba += torch.log(softmax[true[0]])\n",
    "            cur_log_proba /= cur_batch_size\n",
    "            # print(cur_log_proba.item())\n",
    "            log_true_proba += cur_log_proba\n",
    "\n",
    "        proba = torch.exp(log_true_proba.to(torch.float64))\n",
    "        # print(f\"log proba = {log_true_proba.item()}\", f\"p = {proba.item()}\")\n",
    "        perplexity_track.append(torch.pow(proba, -1/min_length))\n",
    "    \n",
    "    return torch.tensor(perplexity_track).mean().item()\n",
    "        \n",
    "\n",
    "init_perplexity = perplexity(\n",
    "    rnn, validation_data, batch_size = 32, consider_length = 32\n",
    ")\n",
    "\n",
    "perplexity_track = [init_perplexity]"
   ]
  },
  {
   "attachments": {},
   "cell_type": "markdown",
   "metadata": {},
   "source": [
    "## Training"
   ]
  },
  {
   "cell_type": "code",
   "execution_count": 274,
   "metadata": {},
   "outputs": [],
   "source": [
    "learning_rate = 0.001\n",
    "num_epochs = 10\n",
    "batch_size = 32\n",
    "\n",
    "cross_entropy = torch.nn.CrossEntropyLoss()\n",
    "tunable_params = [\n",
    "    p for n, p in rnn.named_parameters() if \"word_embeddings\" not in n # tune all weights but the embeddings\n",
    "]\n",
    "\n",
    "optimizer = torch.optim.Adam(tunable_params, lr = learning_rate)"
   ]
  },
  {
   "cell_type": "code",
   "execution_count": 275,
   "metadata": {},
   "outputs": [],
   "source": [
    "batch_start = 0\n",
    "batch_end = batch_start + batch_size\n",
    "tokenized = training_data[batch_start : batch_end]"
   ]
  },
  {
   "cell_type": "code",
   "execution_count": 276,
   "metadata": {},
   "outputs": [
    {
     "name": "stderr",
     "output_type": "stream",
     "text": [
      "100%|██████████| 1407/1407 [07:04<00:00,  3.31it/s]\n"
     ]
    }
   ],
   "source": [
    "loss_track = []\n",
    "\n",
    "loss = 0\n",
    "for epoch in range(num_epochs):\n",
    "    rnn.train()\n",
    "    for batch_start in tqdm(range(0, len(training_data), batch_size)):\n",
    "        batch_end = min(len(training_data), batch_start + batch_size)\n",
    "        cur_batch_size = batch_end - batch_start\n",
    "\n",
    "        tokenized = training_data[batch_start : batch_end]\n",
    "        min_length = np.array([len(t) for t in tokenized]).min()\n",
    "        batch = torch.stack(\n",
    "            [torch.tensor(t[:min_length]) for t in tokenized]\n",
    "        ).to(device)\n",
    "        hidden_state = torch.zeros(rnn.num_layers, cur_batch_size, rnn.hidden_dim).to(device)   # start fresh for each sentence\n",
    "        \n",
    "        for i in range(min_length - 1):\n",
    "            x = batch[:, i][None].T\n",
    "            y_true = batch[:, i+1][None].T\n",
    "            y_pred, hidden_state = rnn(x, hidden_state)\n",
    "            for pred, true in zip(y_pred, y_true):\n",
    "                loss += cross_entropy(pred.squeeze(), true[0])\n",
    "        \n",
    "        loss_track.append(loss.item()/cur_batch_size)\n",
    "\n",
    "        optimizer.zero_grad()\n",
    "        loss.backward()\n",
    "        optimizer.step()\n",
    "            \n",
    "        rnn.zero_grad()\n",
    "        loss = 0\n",
    "    \n",
    "    perplexity_track.append(\n",
    "        perplexity(rnn, validation_data)\n",
    "    )"
   ]
  },
  {
   "cell_type": "code",
   "execution_count": 277,
   "metadata": {},
   "outputs": [
    {
     "data": {
      "text/plain": [
       "[<matplotlib.lines.Line2D at 0x7f512a51bd90>]"
      ]
     },
     "execution_count": 277,
     "metadata": {},
     "output_type": "execute_result"
    },
    {
     "data": {
      "image/png": "[encoded data removed]",
      "text/plain": [
       "<Figure size 640x480 with 1 Axes>"
      ]
     },
     "metadata": {},
     "output_type": "display_data"
    }
   ],
   "source": [
    "import matplotlib.pyplot as plt\n",
    "\n",
    "plt.plot(loss_track)"
   ]
  },
  {
   "cell_type": "code",
   "execution_count": 278,
   "metadata": {},
   "outputs": [
    {
     "name": "stdout",
     "output_type": "stream",
     "text": [
      "36.31760025024414\n",
      "[ 7  2 77 20 57]\n",
      "[('_I', 0.0511), (',', 0.041), ('_the', 0.0299), ('_you', 0.0219), ('_a', 0.0148)]\n",
      "36.35867691040039\n",
      "[ 7  2 77 20 40]\n",
      "[('_I', 0.0482), (',', 0.0465), ('_the', 0.0288), ('_you', 0.0227), ('_is', 0.0139)]\n",
      "36.55463409423828\n",
      "[ 7  2 77 20 57]\n",
      "[('_I', 0.0479), (',', 0.0473), ('_the', 0.03), ('_you', 0.0232), ('_a', 0.0147)]\n",
      "36.60169982910156\n",
      "[ 2  7 77 20 57]\n",
      "[(',', 0.0478), ('_I', 0.0465), ('_the', 0.0305), ('_you', 0.0235), ('_a', 0.0149)]\n",
      "36.626468658447266\n",
      "[ 7  2 77 20 57]\n",
      "[('_I', 0.0475), (',', 0.0468), ('_the', 0.0305), ('_you', 0.0232), ('_a', 0.0147)]\n",
      "36.62479782104492\n",
      "[ 7  2 77 20 57]\n",
      "[('_I', 0.0475), (',', 0.0467), ('_the', 0.0301), ('_you', 0.0231), ('_a', 0.0145)]\n",
      "36.608482360839844\n",
      "[ 7  2 77 20 57]\n",
      "[('_I', 0.0477), (',', 0.0467), ('_the', 0.0301), ('_you', 0.0231), ('_a', 0.0145)]\n",
      "36.620445251464844\n",
      "[ 7  2 77 20 57]\n",
      "[('_I', 0.0473), (',', 0.0471), ('_the', 0.0302), ('_you', 0.0232), ('_a', 0.0146)]\n",
      "36.636077880859375\n",
      "[ 7  2 77 20 57]\n",
      "[('_I', 0.0475), (',', 0.0469), ('_the', 0.0302), ('_you', 0.0232), ('_a', 0.0146)]\n",
      "36.63545608520508\n",
      "[ 7  2 77 20 57]\n",
      "[('_I', 0.0474), (',', 0.047), ('_the', 0.0302), ('_you', 0.0232), ('_a', 0.0146)]\n"
     ]
    },
    {
     "data": {
      "text/plain": [
       "{'text': ['a sample prompt, the I, the, I I,,, the I, the, I I,,'],\n",
       " 'generated_tokens': [2, 77, 7, 2, 77, 2, 7, 7, 2, 2]}"
      ]
     },
     "execution_count": 278,
     "metadata": {},
     "output_type": "execute_result"
    }
   ],
   "source": [
    "def generate(\n",
    "        model, tokenizer, \n",
    "        prompt=\"\", max_new_tokens = 10, top_k = 5,\n",
    "        debug = False,\n",
    "    ):\n",
    "    model.eval()\n",
    "    device = next(model.parameters()).device\n",
    "    tokenized = tokenizer.tokenize([prompt], get_token_ids=True)\n",
    "    token_ids = tokenized[\"token_ids\"][0][:-1]  # remove the </s> token\n",
    "    end_of_sent = tokenizer.word_index[tokenizer.SENT_END]\n",
    "\n",
    "    hidden_state = torch.zeros(model.num_layers, 1, model.hidden_dim).to(device)\n",
    "    for p in token_ids:\n",
    "        x = torch.tensor([[p]]).to(device)\n",
    "        y_pred, hidden_state = model(x, hidden_state)\n",
    "    \n",
    "    last_token = token_ids[-1]\n",
    "    generated_tokens = []\n",
    "    for i in range(max_new_tokens):\n",
    "        print(hidden_state.norm().item())\n",
    "        y_pred, hidden_state = model(\n",
    "            torch.tensor([[last_token]]).to(device), hidden_state\n",
    "        )\n",
    "        y_pred = y_pred.squeeze()\n",
    "        y_pred = torch.nn.functional.softmax(y_pred, dim = 0)\n",
    "        y_pred = y_pred.cpu().detach().numpy()\n",
    "        top_k_idx = y_pred.argsort()[-top_k:][::-1]\n",
    "        top_k_values = y_pred[top_k_idx]\n",
    "\n",
    "        if(debug):\n",
    "            print(top_k_idx)\n",
    "            print([(tokenizer.index_word[t], np.round(v, 4)) for t, v in zip(top_k_idx, top_k_values)])\n",
    "        \n",
    "        top_k_probs = top_k_values / np.sum(top_k_values)\n",
    "        sampled_idx = np.random.choice(top_k_idx, p = top_k_probs)\n",
    "        token_ids.append(sampled_idx)\n",
    "        last_token = sampled_idx\n",
    "        generated_tokens.append(sampled_idx)\n",
    "        if(sampled_idx == end_of_sent):\n",
    "            break\n",
    "    \n",
    "    return {\n",
    "        \"text\": tokenizer.decode([token_ids + generated_tokens]),\n",
    "        \"generated_tokens\": generated_tokens,\n",
    "    }\n",
    "\n",
    "        \n",
    "\n",
    "generate(rnn, tokenizer, \"a sample prompt\", debug = True)"
   ]
  },
  {
   "cell_type": "code",
   "execution_count": null,
   "metadata": {},
   "outputs": [],
   "source": []
  }
 ],
 "metadata": {
  "kernelspec": {
   "display_name": "tensorflow",
   "language": "python",
   "name": "python3"
  },
  "language_info": {
   "codemirror_mode": {
    "name": "ipython",
    "version": 3
   },
   "file_extension": ".py",
   "mimetype": "text/x-python",
   "name": "python",
   "nbconvert_exporter": "python",
   "pygments_lexer": "ipython3",
   "version": "3.9.16"
  }
 },
 "nbformat": 4,
 "nbformat_minor": 2
}
