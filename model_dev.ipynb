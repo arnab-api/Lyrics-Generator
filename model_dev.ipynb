{
 "cells": [
  {
   "cell_type": "code",
   "execution_count": 1,
   "metadata": {},
   "outputs": [],
   "source": [
    "%load_ext autoreload\n",
    "%autoreload 2"
   ]
  },
  {
   "cell_type": "code",
   "execution_count": 2,
   "metadata": {},
   "outputs": [
    {
     "name": "stderr",
     "output_type": "stream",
     "text": [
      "/home/local_arnab/miniconda3/envs/tensorflow/lib/python3.9/site-packages/tqdm/auto.py:21: TqdmWarning: IProgress not found. Please update jupyter and ipywidgets. See https://ipywidgets.readthedocs.io/en/stable/user_install.html\n",
      "  from .autonotebook import tqdm as notebook_tqdm\n"
     ]
    }
   ],
   "source": [
    "import pandas as pd\n",
    "import torch\n",
    "import numpy as np\n",
    "from tqdm.auto import tqdm\n",
    "\n",
    "from preprocessing import tokenize, embeddings"
   ]
  },
  {
   "attachments": {},
   "cell_type": "markdown",
   "metadata": {},
   "source": [
    "## Loading Data"
   ]
  },
  {
   "cell_type": "code",
   "execution_count": 3,
   "metadata": {},
   "outputs": [
    {
     "name": "stdout",
     "output_type": "stream",
     "text": [
      "(80285, 4)\n"
     ]
    },
    {
     "data": {
      "text/html": [
       "<div>\n",
       "<style scoped>\n",
       "    .dataframe tbody tr th:only-of-type {\n",
       "        vertical-align: middle;\n",
       "    }\n",
       "\n",
       "    .dataframe tbody tr th {\n",
       "        vertical-align: top;\n",
       "    }\n",
       "\n",
       "    .dataframe thead th {\n",
       "        text-align: right;\n",
       "    }\n",
       "</style>\n",
       "<table border=\"1\" class=\"dataframe\">\n",
       "  <thead>\n",
       "    <tr style=\"text-align: right;\">\n",
       "      <th></th>\n",
       "      <th>Artist</th>\n",
       "      <th>Song</th>\n",
       "      <th>Lyrics</th>\n",
       "      <th>Genre</th>\n",
       "    </tr>\n",
       "  </thead>\n",
       "  <tbody>\n",
       "    <tr>\n",
       "      <th>0</th>\n",
       "      <td>Britney Spears</td>\n",
       "      <td>...Baby One More Time</td>\n",
       "      <td>Oh, baby, baby Oh, baby, baby  Oh, baby, baby...</td>\n",
       "      <td>Pop</td>\n",
       "    </tr>\n",
       "    <tr>\n",
       "      <th>1</th>\n",
       "      <td>Britney Spears</td>\n",
       "      <td>Toxic</td>\n",
       "      <td>Baby, can't you see I'm calling? A guy like y...</td>\n",
       "      <td>Pop</td>\n",
       "    </tr>\n",
       "    <tr>\n",
       "      <th>2</th>\n",
       "      <td>Britney Spears</td>\n",
       "      <td>Work Bitch</td>\n",
       "      <td>You wanna? You wanna?  You want a hot body? Y...</td>\n",
       "      <td>Pop</td>\n",
       "    </tr>\n",
       "    <tr>\n",
       "      <th>3</th>\n",
       "      <td>Britney Spears</td>\n",
       "      <td>Oops!... I Did It Again</td>\n",
       "      <td>Mmm, yeah Yeah, yeah, yeah, yeah, yeah, yeah ...</td>\n",
       "      <td>Pop</td>\n",
       "    </tr>\n",
       "    <tr>\n",
       "      <th>4</th>\n",
       "      <td>Britney Spears</td>\n",
       "      <td>If U Seek Amy</td>\n",
       "      <td>La, la, la, la, la-la, la, la La, la, la, la,...</td>\n",
       "      <td>Pop</td>\n",
       "    </tr>\n",
       "  </tbody>\n",
       "</table>\n",
       "</div>"
      ],
      "text/plain": [
       "           Artist                     Song  \\\n",
       "0  Britney Spears    ...Baby One More Time   \n",
       "1  Britney Spears                    Toxic   \n",
       "2  Britney Spears               Work Bitch   \n",
       "3  Britney Spears  Oops!... I Did It Again   \n",
       "4  Britney Spears            If U Seek Amy   \n",
       "\n",
       "                                              Lyrics Genre  \n",
       "0   Oh, baby, baby Oh, baby, baby  Oh, baby, baby...   Pop  \n",
       "1   Baby, can't you see I'm calling? A guy like y...   Pop  \n",
       "2   You wanna? You wanna?  You want a hot body? Y...   Pop  \n",
       "3   Mmm, yeah Yeah, yeah, yeah, yeah, yeah, yeah ...   Pop  \n",
       "4   La, la, la, la, la-la, la, la La, la, la, la,...   Pop  "
      ]
     },
     "execution_count": 3,
     "metadata": {},
     "output_type": "execute_result"
    }
   ],
   "source": [
    "df = pd.read_csv(\"Data/df_lyrics.csv\")\n",
    "print(df.shape)\n",
    "df.head()"
   ]
  },
  {
   "cell_type": "code",
   "execution_count": 4,
   "metadata": {},
   "outputs": [
    {
     "name": "stdout",
     "output_type": "stream",
     "text": [
      "Rap 18331\n",
      "Country 21717\n",
      "Pop 18275\n",
      "Rock 21962\n"
     ]
    }
   ],
   "source": [
    "for genre in set(df.Genre):\n",
    "    print(genre, df[df.Genre == genre].shape[0])"
   ]
  },
  {
   "attachments": {},
   "cell_type": "markdown",
   "metadata": {},
   "source": [
    "## Preprocessing"
   ]
  },
  {
   "cell_type": "code",
   "execution_count": 5,
   "metadata": {},
   "outputs": [
    {
     "name": "stderr",
     "output_type": "stream",
     "text": [
      "2023-04-10 00:26:34.876114: I tensorflow/stream_executor/platform/default/dso_loader.cc:49] Successfully opened dynamic library libcudart.so.10.1\n"
     ]
    },
    {
     "data": {
      "text/plain": [
       "{'tokens': [['<s>', 'I', '_am', '_a', '_little', '_te', 'ap', 'ot', '</s>']],\n",
       " 'token_ids': [[0, 432, 51, 57, 778, 2153, 1821, 6834, 87]]}"
      ]
     },
     "execution_count": 5,
     "metadata": {},
     "output_type": "execute_result"
    }
   ],
   "source": [
    "tokenizer = tokenize.Tokenizer()\n",
    "tokenizer.load(path = \"Weights/tokenizer.json\")\n",
    "tokenizer.tokenize(\"I'm a little teapot\", get_token_ids=True)"
   ]
  },
  {
   "cell_type": "code",
   "execution_count": 6,
   "metadata": {},
   "outputs": [],
   "source": [
    "##########################################################\n",
    "MAX_LENGTH = 1024  # max context length for the tokenizer\n",
    "##########################################################\n",
    "lyrics = [l[:min(len(l), MAX_LENGTH)] for l in list(df[\"Lyrics\"])]\n",
    "\n",
    "proprocessed_lyrics = tokenizer.tokenize(lyrics, get_token_ids=True)"
   ]
  },
  {
   "cell_type": "code",
   "execution_count": 7,
   "metadata": {},
   "outputs": [
    {
     "data": {
      "text/plain": [
       "80285"
      ]
     },
     "execution_count": 7,
     "metadata": {},
     "output_type": "execute_result"
    }
   ],
   "source": [
    "lyrics_token_ids = proprocessed_lyrics[\"token_ids\"]\n",
    "len(lyrics_token_ids)"
   ]
  },
  {
   "cell_type": "code",
   "execution_count": 8,
   "metadata": {},
   "outputs": [
    {
     "name": "stdout",
     "output_type": "stream",
     "text": [
      "45000 15000 20285\n"
     ]
    }
   ],
   "source": [
    "shuffle_idx = np.random.permutation(len(lyrics_token_ids))\n",
    "\n",
    "####################################################################\n",
    "training_size = 45000\n",
    "validation_size = 15000\n",
    "test_size = len(lyrics_token_ids) - training_size - validation_size\n",
    "####################################################################\n",
    "\n",
    "training_data = [lyrics_token_ids[i] for i in shuffle_idx[:training_size]]\n",
    "validation_data = [lyrics_token_ids[i] for i in shuffle_idx[training_size : training_size + validation_size]]\n",
    "test_data = [lyrics_token_ids[i] for i in shuffle_idx[training_size + validation_size : ]]\n",
    "\n",
    "print(len(training_data), len(validation_data), len(test_data))"
   ]
  },
  {
   "cell_type": "code",
   "execution_count": 9,
   "metadata": {},
   "outputs": [],
   "source": [
    "embedder = embeddings.Embedding()\n",
    "embedder.load(\"Weights/embeddings_300_w2v.txt\")"
   ]
  },
  {
   "cell_type": "code",
   "execution_count": 10,
   "metadata": {},
   "outputs": [
    {
     "data": {
      "text/plain": [
       "300"
      ]
     },
     "execution_count": 10,
     "metadata": {},
     "output_type": "execute_result"
    }
   ],
   "source": [
    "embedder.embeddings_size"
   ]
  },
  {
   "cell_type": "code",
   "execution_count": 11,
   "metadata": {},
   "outputs": [
    {
     "data": {
      "text/plain": [
       "39903"
      ]
     },
     "execution_count": 11,
     "metadata": {},
     "output_type": "execute_result"
    }
   ],
   "source": [
    "embedder.vocab_size"
   ]
  },
  {
   "cell_type": "code",
   "execution_count": 12,
   "metadata": {},
   "outputs": [
    {
     "data": {
      "text/plain": [
       "torch.Size([39903, 300])"
      ]
     },
     "execution_count": 12,
     "metadata": {},
     "output_type": "execute_result"
    }
   ],
   "source": [
    "embedding_matrix = []\n",
    "\n",
    "for idx in tokenizer.index_word:\n",
    "    word = tokenizer.index_word[idx]\n",
    "    vec = embedder.model.get_vector(word)\n",
    "    embedding_matrix.append(torch.tensor(vec))\n",
    "\n",
    "embedding_matrix = torch.stack(embedding_matrix)\n",
    "embedding_matrix.shape"
   ]
  },
  {
   "attachments": {},
   "cell_type": "markdown",
   "metadata": {},
   "source": [
    "## Modeling"
   ]
  },
  {
   "cell_type": "code",
   "execution_count": 13,
   "metadata": {},
   "outputs": [],
   "source": [
    "class RNN(torch.nn.Module):\n",
    "    def __init__(\n",
    "            self, \n",
    "            embedding_dim, hidden_dim, vocab_size, num_layers = 2,\n",
    "            pretrained_embeddings = None, # will initialize with random embeddings if None\n",
    "            dropout = 0.1,\n",
    "        ):\n",
    "        super(RNN, self).__init__()\n",
    "        self.hidden_dim = hidden_dim\n",
    "        self.num_layers = num_layers\n",
    "        \n",
    "        self.word_embeddings = torch.nn.Embedding(vocab_size, embedding_dim = embedding_dim)\n",
    "        if(pretrained_embeddings != None):\n",
    "            self.word_embeddings.weight = torch.nn.Parameter(pretrained_embeddings)\n",
    "        self.dropout = torch.nn.Dropout(dropout)\n",
    "        self.rnn = torch.nn.RNN(\n",
    "            input_size = embedding_dim, \n",
    "            hidden_size = hidden_dim,\n",
    "            num_layers = num_layers,\n",
    "            batch_first = True,\n",
    "            dropout = dropout,\n",
    "        )\n",
    "        self.decoder = torch.nn.Linear(hidden_dim, vocab_size)\n",
    "    \n",
    "    def forward(self, input, hidden):\n",
    "        embeds = self.word_embeddings(input)\n",
    "        embeds = self.dropout(embeds)\n",
    "        output, hidden = self.rnn(embeds, hidden)\n",
    "        decoded = self.decoder(output)\n",
    "        return decoded, hidden"
   ]
  },
  {
   "cell_type": "code",
   "execution_count": 14,
   "metadata": {},
   "outputs": [],
   "source": [
    "class LSTM(torch.nn.Module):\n",
    "    def __init__(\n",
    "            self, \n",
    "            embedding_dim, hidden_dim, vocab_size, num_layers = 2,\n",
    "            pretrained_embeddings = None, # will initialize with random embeddings if None\n",
    "            dropout = 0.1,\n",
    "        ):\n",
    "        super(LSTM, self).__init__()\n",
    "        self.hidden_dim = hidden_dim\n",
    "        self.num_layers = num_layers\n",
    "        \n",
    "        self.word_embeddings = torch.nn.Embedding(vocab_size, embedding_dim = embedding_dim)\n",
    "        if(pretrained_embeddings != None):\n",
    "            self.word_embeddings.weight = torch.nn.Parameter(pretrained_embeddings)\n",
    "        self.dropout = torch.nn.Dropout(dropout)\n",
    "        self.lstm = torch.nn.LSTM(\n",
    "            input_size = embedding_dim, \n",
    "            hidden_size = hidden_dim,\n",
    "            num_layers = num_layers,\n",
    "            batch_first = True,\n",
    "            dropout = dropout,\n",
    "        )\n",
    "        self.decoder = torch.nn.Linear(hidden_dim, vocab_size)\n",
    "    \n",
    "    def forward(self, input, hidden):\n",
    "        embeds = self.word_embeddings(input)\n",
    "        embeds = self.dropout(embeds)\n",
    "        output, hidden = self.lstm(embeds, hidden)\n",
    "        decoded = self.decoder(output)\n",
    "        return decoded, hidden"
   ]
  },
  {
   "cell_type": "code",
   "execution_count": 15,
   "metadata": {},
   "outputs": [
    {
     "data": {
      "text/plain": [
       "LSTM(\n",
       "  (word_embeddings): Embedding(39903, 300)\n",
       "  (dropout): Dropout(p=0.1, inplace=False)\n",
       "  (lstm): LSTM(300, 1200, num_layers=2, batch_first=True, dropout=0.1)\n",
       "  (decoder): Linear(in_features=1200, out_features=39903, bias=True)\n",
       ")"
      ]
     },
     "execution_count": 15,
     "metadata": {},
     "output_type": "execute_result"
    }
   ],
   "source": [
    "device = \"cuda:0\" if torch.cuda.is_available() else \"cpu\"\n",
    "\n",
    "model = LSTM(\n",
    "    embedding_dim = embedder.embeddings_size,\n",
    "    hidden_dim = 4 * embedder.embeddings_size,\n",
    "    vocab_size = embedder.vocab_size,\n",
    "    pretrained_embeddings = embedding_matrix,\n",
    ")\n",
    "model.to(device)"
   ]
  },
  {
   "cell_type": "code",
   "execution_count": 16,
   "metadata": {},
   "outputs": [
    {
     "data": {
      "text/plain": [
       "device(type='cuda', index=0)"
      ]
     },
     "execution_count": 16,
     "metadata": {},
     "output_type": "execute_result"
    }
   ],
   "source": [
    "next(model.parameters()).device"
   ]
  },
  {
   "cell_type": "code",
   "execution_count": 17,
   "metadata": {},
   "outputs": [
    {
     "name": "stdout",
     "output_type": "stream",
     "text": [
      "torch.Size([39903, 300])\n"
     ]
    }
   ],
   "source": [
    "model_embedder = model.word_embeddings\n",
    "for p in model_embedder.parameters():\n",
    "    print(p.shape)"
   ]
  },
  {
   "cell_type": "code",
   "execution_count": 18,
   "metadata": {},
   "outputs": [
    {
     "name": "stdout",
     "output_type": "stream",
     "text": [
      "(300,) torch.Size([300])\n",
      "0.0\n"
     ]
    }
   ],
   "source": [
    "word = \"hello\"\n",
    "emb1 = embedder.model.get_vector(word)\n",
    "emb2 = model_embedder(torch.tensor(tokenizer.word_index[word]).to(device))\n",
    "\n",
    "print(emb1.shape, emb2.shape)\n",
    "print(torch.dist(torch.tensor(emb1).to(device), emb2).item())"
   ]
  },
  {
   "cell_type": "code",
   "execution_count": 19,
   "metadata": {},
   "outputs": [
    {
     "data": {
      "text/plain": [
       "torch.Size([5, 270])"
      ]
     },
     "execution_count": 19,
     "metadata": {},
     "output_type": "execute_result"
    }
   ],
   "source": [
    "tokenized = tokenizer.tokenize(lyrics[0:5], get_token_ids=True)[\"token_ids\"]\n",
    "min_length = np.array([len(t) for t in tokenized]).min()\n",
    "batch = torch.stack(\n",
    "    [torch.tensor(t[:min_length]) for t in tokenized]\n",
    ")\n",
    "batch.shape"
   ]
  },
  {
   "cell_type": "code",
   "execution_count": 20,
   "metadata": {},
   "outputs": [
    {
     "data": {
      "text/plain": [
       "(torch.Size([5, 1, 39903]), torch.Size([2, 5, 1200]), torch.Size([2, 5, 1200]))"
      ]
     },
     "execution_count": 20,
     "metadata": {},
     "output_type": "execute_result"
    }
   ],
   "source": [
    "# y, h = rnn(\n",
    "#     input = torch.tensor([[tokenizer.word_index[word]]]).to(device), \n",
    "#     hidden = torch.zeros(8, 1, model.hidden_dim).to(device)\n",
    "# )\n",
    "\n",
    "y, (h, c) = model(\n",
    "    input = batch[:, 10][None].T.to(device),\n",
    "    # input = batch.to(device),\n",
    "    hidden = None\n",
    ")\n",
    "\n",
    "y.shape, h.shape, c.shape"
   ]
  },
  {
   "cell_type": "code",
   "execution_count": 21,
   "metadata": {},
   "outputs": [
    {
     "data": {
      "text/plain": [
       "torch.Size([5, 1])"
      ]
     },
     "execution_count": 21,
     "metadata": {},
     "output_type": "execute_result"
    }
   ],
   "source": [
    "batch[:, 10][None].T.shape"
   ]
  },
  {
   "cell_type": "code",
   "execution_count": 22,
   "metadata": {},
   "outputs": [],
   "source": [
    "# cross_entropy(y.squeeze(), torch.tensor(10).to(device))"
   ]
  },
  {
   "cell_type": "code",
   "execution_count": 23,
   "metadata": {},
   "outputs": [
    {
     "data": {
      "text/plain": [
       "True"
      ]
     },
     "execution_count": 23,
     "metadata": {},
     "output_type": "execute_result"
    }
   ],
   "source": [
    "isinstance(model, LSTM)"
   ]
  },
  {
   "attachments": {},
   "cell_type": "markdown",
   "metadata": {},
   "source": [
    "## Intrinsic Eval"
   ]
  },
  {
   "cell_type": "code",
   "execution_count": 24,
   "metadata": {},
   "outputs": [
    {
     "name": "stderr",
     "output_type": "stream",
     "text": [
      "100%|██████████| 118/118 [00:47<00:00,  2.47it/s]\n"
     ]
    }
   ],
   "source": [
    "def perplexity(\n",
    "        model, sentence_list,\n",
    "        tokenizer = None,  # if None, assume sentence_list is already tokenized\n",
    "        batch_size = 32,\n",
    "        consider_length = 32,   # if the length is too large the perplexity will be infinite\n",
    "    ):\n",
    "    model.eval()\n",
    "    device = next(model.parameters()).device\n",
    "    if(tokenizer is not None):\n",
    "        tokenized = tokenizer.tokenize([sentence_list], get_token_ids=True)\n",
    "        token_ids = tokenized[\"token_ids\"][0]\n",
    "    else:\n",
    "        token_ids = sentence_list\n",
    "\n",
    "    perplexity_track = []\n",
    "    with torch.no_grad():\n",
    "        for batch_start in tqdm(range(0, len(token_ids), batch_size)):\n",
    "            batch_end = min(len(token_ids), batch_start + batch_size)\n",
    "            cur_batch_size = batch_end - batch_start\n",
    "            min_length = min(consider_length, np.array([len(t) for t in token_ids[batch_start : batch_end]]).min())\n",
    "\n",
    "            batch = torch.stack(\n",
    "                [torch.tensor(t[:min_length]) for t in token_ids[batch_start : batch_end]]\n",
    "            ).to(device)\n",
    "\n",
    "            if(isinstance(model, LSTM)):\n",
    "                hidden_state = (\n",
    "                    torch.zeros(model.num_layers, cur_batch_size, model.hidden_dim).to(device),\n",
    "                    torch.zeros(model.num_layers, cur_batch_size, model.hidden_dim).to(device)\n",
    "                )\n",
    "            elif(isinstance(model, RNN)):\n",
    "                hidden_state = torch.zeros(model.num_layers, cur_batch_size, model.hidden_dim).to(device)\n",
    "            else:\n",
    "                raise Exception(\"Unknown model type\")\n",
    "\n",
    "            # print(batch.shape, hidden_state.shape)\n",
    "\n",
    "            log_true_proba = 0\n",
    "            for i in range(min_length - 1):\n",
    "                x = batch[:, i][None].T\n",
    "                y_true = batch[:, i+1][None].T\n",
    "                y_pred, hidden_state = model(x, hidden_state)\n",
    "                cur_log_proba = 0\n",
    "                for pred, true in zip(y_pred, y_true):\n",
    "                    softmax = torch.nn.functional.softmax(pred.squeeze(), dim = 0)\n",
    "                    # print(true[0].item(), softmax[true[0]].item(), torch.log(softmax[true[0]]).item())\n",
    "                    cur_log_proba += torch.log(softmax[true[0]])\n",
    "                cur_log_proba /= cur_batch_size\n",
    "                # print(cur_log_proba.item())\n",
    "                log_true_proba += cur_log_proba\n",
    "\n",
    "                # hidden_state = hidden_state.detach()\n",
    "\n",
    "            proba = torch.exp(log_true_proba.to(torch.float64))\n",
    "            # print(f\"log proba = {log_true_proba.item()}\", f\"p = {proba.item()}\")\n",
    "            perplexity_track.append(torch.pow(proba, -1/min_length))\n",
    "    \n",
    "    return torch.tensor(perplexity_track).mean().item()\n",
    "        \n",
    "\n",
    "init_perplexity = perplexity(\n",
    "    model, validation_data, batch_size = 128, consider_length = 64\n",
    ")\n",
    "\n",
    "perplexity_track = [init_perplexity]"
   ]
  },
  {
   "cell_type": "code",
   "execution_count": 25,
   "metadata": {},
   "outputs": [
    {
     "data": {
      "text/plain": [
       "[33193.54416127695]"
      ]
     },
     "execution_count": 25,
     "metadata": {},
     "output_type": "execute_result"
    }
   ],
   "source": [
    "perplexity_track"
   ]
  },
  {
   "attachments": {},
   "cell_type": "markdown",
   "metadata": {},
   "source": [
    "## Training"
   ]
  },
  {
   "cell_type": "code",
   "execution_count": 26,
   "metadata": {},
   "outputs": [],
   "source": [
    "learning_rate = 0.001\n",
    "num_epochs = 10\n",
    "batch_size = 128\n",
    "\n",
    "cross_entropy = torch.nn.CrossEntropyLoss().to(device)\n",
    "tunable_params = [\n",
    "    p for n, p in model.named_parameters() if \"word_embeddings\" not in n # tune all weights but the embeddings\n",
    "]\n",
    "\n",
    "optimizer = torch.optim.Adam(tunable_params, lr = learning_rate)\n",
    "# optimizer = torch.optim.Adam(model.parameters(), lr = learning_rate)"
   ]
  },
  {
   "cell_type": "code",
   "execution_count": 27,
   "metadata": {},
   "outputs": [],
   "source": [
    "batch_start = 0\n",
    "batch_end = batch_start + batch_size\n",
    "tokenized = training_data[batch_start : batch_end]"
   ]
  },
  {
   "cell_type": "code",
   "execution_count": 28,
   "metadata": {},
   "outputs": [
    {
     "name": "stdout",
     "output_type": "stream",
     "text": [
      "Epoch 1:\n"
     ]
    },
    {
     "name": "stderr",
     "output_type": "stream",
     "text": [
      "100%|██████████| 352/352 [04:31<00:00,  1.30it/s]\n"
     ]
    },
    {
     "name": "stdout",
     "output_type": "stream",
     "text": [
      "calculating perplexity on validation set\n"
     ]
    },
    {
     "name": "stderr",
     "output_type": "stream",
     "text": [
      "100%|██████████| 118/118 [00:49<00:00,  2.37it/s]\n"
     ]
    },
    {
     "name": "stdout",
     "output_type": "stream",
     "text": [
      "perplexity = 465.906510884181\n",
      "-----------------------------------------\n",
      "Epoch 2:\n"
     ]
    },
    {
     "name": "stderr",
     "output_type": "stream",
     "text": [
      "100%|██████████| 352/352 [04:31<00:00,  1.29it/s]\n"
     ]
    },
    {
     "name": "stdout",
     "output_type": "stream",
     "text": [
      "calculating perplexity on validation set\n"
     ]
    },
    {
     "name": "stderr",
     "output_type": "stream",
     "text": [
      "100%|██████████| 118/118 [00:49<00:00,  2.37it/s]\n"
     ]
    },
    {
     "name": "stdout",
     "output_type": "stream",
     "text": [
      "perplexity = 192.0857389768086\n",
      "-----------------------------------------\n",
      "Epoch 3:\n"
     ]
    },
    {
     "name": "stderr",
     "output_type": "stream",
     "text": [
      "100%|██████████| 352/352 [04:31<00:00,  1.29it/s]\n"
     ]
    },
    {
     "name": "stdout",
     "output_type": "stream",
     "text": [
      "calculating perplexity on validation set\n"
     ]
    },
    {
     "name": "stderr",
     "output_type": "stream",
     "text": [
      "100%|██████████| 118/118 [00:49<00:00,  2.38it/s]\n"
     ]
    },
    {
     "name": "stdout",
     "output_type": "stream",
     "text": [
      "perplexity = 143.7444118541959\n",
      "-----------------------------------------\n",
      "Epoch 4:\n"
     ]
    },
    {
     "name": "stderr",
     "output_type": "stream",
     "text": [
      "100%|██████████| 352/352 [04:33<00:00,  1.29it/s]\n"
     ]
    },
    {
     "name": "stdout",
     "output_type": "stream",
     "text": [
      "calculating perplexity on validation set\n"
     ]
    },
    {
     "name": "stderr",
     "output_type": "stream",
     "text": [
      "100%|██████████| 118/118 [00:49<00:00,  2.37it/s]\n"
     ]
    },
    {
     "name": "stdout",
     "output_type": "stream",
     "text": [
      "perplexity = 122.67556105502022\n",
      "-----------------------------------------\n",
      "Epoch 5:\n"
     ]
    },
    {
     "name": "stderr",
     "output_type": "stream",
     "text": [
      "100%|██████████| 352/352 [04:32<00:00,  1.29it/s]\n"
     ]
    },
    {
     "name": "stdout",
     "output_type": "stream",
     "text": [
      "calculating perplexity on validation set\n"
     ]
    },
    {
     "name": "stderr",
     "output_type": "stream",
     "text": [
      "100%|██████████| 118/118 [00:49<00:00,  2.37it/s]\n"
     ]
    },
    {
     "name": "stdout",
     "output_type": "stream",
     "text": [
      "perplexity = 111.65434190430754\n",
      "-----------------------------------------\n",
      "Epoch 6:\n"
     ]
    },
    {
     "name": "stderr",
     "output_type": "stream",
     "text": [
      "100%|██████████| 352/352 [04:32<00:00,  1.29it/s]\n"
     ]
    },
    {
     "name": "stdout",
     "output_type": "stream",
     "text": [
      "calculating perplexity on validation set\n"
     ]
    },
    {
     "name": "stderr",
     "output_type": "stream",
     "text": [
      "100%|██████████| 118/118 [00:49<00:00,  2.38it/s]\n"
     ]
    },
    {
     "name": "stdout",
     "output_type": "stream",
     "text": [
      "perplexity = 104.54861522325913\n",
      "-----------------------------------------\n",
      "Epoch 7:\n"
     ]
    },
    {
     "name": "stderr",
     "output_type": "stream",
     "text": [
      "100%|██████████| 352/352 [04:32<00:00,  1.29it/s]\n"
     ]
    },
    {
     "name": "stdout",
     "output_type": "stream",
     "text": [
      "calculating perplexity on validation set\n"
     ]
    },
    {
     "name": "stderr",
     "output_type": "stream",
     "text": [
      "100%|██████████| 118/118 [00:49<00:00,  2.36it/s]\n"
     ]
    },
    {
     "name": "stdout",
     "output_type": "stream",
     "text": [
      "perplexity = 99.98729889668567\n",
      "-----------------------------------------\n",
      "Epoch 8:\n"
     ]
    },
    {
     "name": "stderr",
     "output_type": "stream",
     "text": [
      "100%|██████████| 352/352 [04:33<00:00,  1.29it/s]\n"
     ]
    },
    {
     "name": "stdout",
     "output_type": "stream",
     "text": [
      "calculating perplexity on validation set\n"
     ]
    },
    {
     "name": "stderr",
     "output_type": "stream",
     "text": [
      "100%|██████████| 118/118 [00:49<00:00,  2.37it/s]\n"
     ]
    },
    {
     "name": "stdout",
     "output_type": "stream",
     "text": [
      "perplexity = 97.3643912561705\n",
      "-----------------------------------------\n",
      "Epoch 9:\n"
     ]
    },
    {
     "name": "stderr",
     "output_type": "stream",
     "text": [
      "100%|██████████| 352/352 [04:32<00:00,  1.29it/s]\n"
     ]
    },
    {
     "name": "stdout",
     "output_type": "stream",
     "text": [
      "calculating perplexity on validation set\n"
     ]
    },
    {
     "name": "stderr",
     "output_type": "stream",
     "text": [
      "100%|██████████| 118/118 [00:49<00:00,  2.37it/s]\n"
     ]
    },
    {
     "name": "stdout",
     "output_type": "stream",
     "text": [
      "perplexity = 96.2088717253703\n",
      "-----------------------------------------\n",
      "Epoch 10:\n"
     ]
    },
    {
     "name": "stderr",
     "output_type": "stream",
     "text": [
      "100%|██████████| 352/352 [04:33<00:00,  1.29it/s]\n"
     ]
    },
    {
     "name": "stdout",
     "output_type": "stream",
     "text": [
      "calculating perplexity on validation set\n"
     ]
    },
    {
     "name": "stderr",
     "output_type": "stream",
     "text": [
      "100%|██████████| 118/118 [00:49<00:00,  2.37it/s]"
     ]
    },
    {
     "name": "stdout",
     "output_type": "stream",
     "text": [
      "perplexity = 95.08838721486693\n",
      "-----------------------------------------\n"
     ]
    },
    {
     "name": "stderr",
     "output_type": "stream",
     "text": [
      "\n"
     ]
    }
   ],
   "source": [
    "loss_track = []\n",
    "\n",
    "for epoch in range(num_epochs):\n",
    "    print(f\"Epoch {epoch + 1}:\")\n",
    "    model.train()\n",
    "    loss = 0\n",
    "    for batch_start in tqdm(range(0, len(training_data), batch_size)):\n",
    "        batch_end = min(len(training_data), batch_start + batch_size)\n",
    "        cur_batch_size = batch_end - batch_start\n",
    "\n",
    "        tokenized = training_data[batch_start : batch_end]\n",
    "        min_length = np.array([len(t) for t in tokenized]).min()\n",
    "        batch = torch.stack(\n",
    "            [torch.tensor(t[:min_length]) for t in tokenized]\n",
    "        ).to(device)\n",
    "\n",
    "        # start fresh for each sentence\n",
    "        if(isinstance(model, LSTM)):\n",
    "            hidden_state = (\n",
    "                torch.zeros(model.num_layers, cur_batch_size, model.hidden_dim).to(device),\n",
    "                torch.zeros(model.num_layers, cur_batch_size, model.hidden_dim).to(device)\n",
    "            )\n",
    "        elif(isinstance(model, RNN)):\n",
    "            hidden_state = torch.zeros(model.num_layers, cur_batch_size, model.hidden_dim).to(device)\n",
    "        else:\n",
    "            raise Exception(\"Unknown model type\")\n",
    "        \n",
    "        for i in range(min_length - 1):\n",
    "            x = batch[:, i][None].T\n",
    "            y_true = batch[:, i+1][None].T\n",
    "            y_pred, hidden_state = model(x, hidden_state)\n",
    "            for pred, true in zip(y_pred, y_true):\n",
    "                loss += cross_entropy(pred.squeeze(), true[0])\n",
    "        \n",
    "        loss_track.append(loss.item()/cur_batch_size)\n",
    "\n",
    "        optimizer.zero_grad()\n",
    "        loss.backward()\n",
    "        optimizer.step()\n",
    "            \n",
    "        model.zero_grad()\n",
    "        loss = 0\n",
    "    \n",
    "    print(\"calculating perplexity on validation set\")\n",
    "    pp = perplexity(model, validation_data, batch_size=batch_size, consider_length=64)\n",
    "    print(f\"perplexity = {pp}\") \n",
    "    perplexity_track.append(pp)\n",
    "    print(\"-----------------------------------------\")"
   ]
  },
  {
   "cell_type": "code",
   "execution_count": 34,
   "metadata": {},
   "outputs": [],
   "source": [
    "import os\n",
    "import json\n",
    "\n",
    "save_dir = \"Weights/lstm_embed_freeze\"\n",
    "os.makedirs(save_dir, exist_ok=True)\n",
    "\n",
    "torch.save(model.state_dict(), f\"{save_dir}/weights.pth\")\n",
    "with open(f\"{save_dir}/logs.json\", \"w\") as f:\n",
    "    json.dump({\n",
    "        \"loss_track\": loss_track,\n",
    "        \"perplexity_track\": perplexity_track\n",
    "    }, f)"
   ]
  },
  {
   "cell_type": "code",
   "execution_count": 42,
   "metadata": {},
   "outputs": [
    {
     "data": {
      "text/plain": [
       "Text(0, 0.5, 'Loss')"
      ]
     },
     "execution_count": 42,
     "metadata": {},
     "output_type": "execute_result"
    },
    {
     "data": {
      "image/png": "[encoded data removed]",
      "text/plain": [
       "<Figure size 640x480 with 1 Axes>"
      ]
     },
     "metadata": {},
     "output_type": "display_data"
    }
   ],
   "source": [
    "import matplotlib.pyplot as plt\n",
    "\n",
    "plt.plot(loss_track)\n",
    "plt.ylabel(\"Loss\")"
   ]
  },
  {
   "cell_type": "code",
   "execution_count": 40,
   "metadata": {},
   "outputs": [
    {
     "data": {
      "text/plain": [
       "Text(0.5, 0, 'Epoch')"
      ]
     },
     "execution_count": 40,
     "metadata": {},
     "output_type": "execute_result"
    },
    {
     "data": {
      "image/png": "[encoded data removed]",
      "text/plain": [
       "<Figure size 640x480 with 1 Axes>"
      ]
     },
     "metadata": {},
     "output_type": "display_data"
    }
   ],
   "source": [
    "plt.plot(perplexity_track[1:])\n",
    "plt.ylabel(\"Perplexity\")\n",
    "plt.xlabel(\"Epoch\")"
   ]
  },
  {
   "attachments": {},
   "cell_type": "markdown",
   "metadata": {},
   "source": [
    "## Generation"
   ]
  },
  {
   "cell_type": "code",
   "execution_count": 38,
   "metadata": {},
   "outputs": [],
   "source": [
    "def generate(\n",
    "        model, tokenizer, \n",
    "        prompt=\"\", max_new_tokens = 10, top_k = 5,\n",
    "        debug = False,\n",
    "    ):\n",
    "    model.eval()\n",
    "    device = next(model.parameters()).device\n",
    "    tokenized = tokenizer.tokenize([prompt], get_token_ids=True)\n",
    "    token_ids = tokenized[\"token_ids\"][0][:-1]  # remove the </s> token\n",
    "    end_of_sent = tokenizer.word_index[tokenizer.SENT_END]\n",
    "\n",
    "    # start fresh for each sentence\n",
    "    if(isinstance(model, LSTM)):\n",
    "        hidden_state = (\n",
    "            torch.zeros(model.num_layers, 1, model.hidden_dim).to(device),\n",
    "            torch.zeros(model.num_layers, 1, model.hidden_dim).to(device)\n",
    "        )\n",
    "    elif(isinstance(model, RNN)):\n",
    "        hidden_state = torch.zeros(model.num_layers, 1, model.hidden_dim).to(device)\n",
    "    else:\n",
    "        raise Exception(\"Unknown model type\")\n",
    "    \n",
    "    for p in token_ids:\n",
    "        x = torch.tensor([[p]]).to(device)\n",
    "        y_pred, hidden_state = model(x, hidden_state)\n",
    "    \n",
    "    last_token = token_ids[-1]\n",
    "    generated_tokens = []\n",
    "    for i in range(max_new_tokens):\n",
    "        # print(hidden_state.norm().item())\n",
    "        y_pred, hidden_state = model(\n",
    "            torch.tensor([[last_token]]).to(device), hidden_state\n",
    "        )\n",
    "        y_pred = y_pred.squeeze()\n",
    "        y_pred = torch.nn.functional.softmax(y_pred, dim = 0)\n",
    "        y_pred = y_pred.cpu().detach().numpy()\n",
    "        top_k_idx = y_pred.argsort()[-top_k:][::-1]\n",
    "        top_k_values = y_pred[top_k_idx]\n",
    "\n",
    "        if(debug):\n",
    "            print(top_k_idx)\n",
    "            print([(tokenizer.index_word[t], np.round(v, 4)) for t, v in zip(top_k_idx, top_k_values)])\n",
    "        \n",
    "        top_k_probs = top_k_values / np.sum(top_k_values)\n",
    "        sampled_idx = np.random.choice(top_k_idx, p = top_k_probs)\n",
    "        token_ids.append(sampled_idx)\n",
    "        last_token = sampled_idx\n",
    "        generated_tokens.append(sampled_idx)\n",
    "        if(sampled_idx == end_of_sent):\n",
    "            break\n",
    "    \n",
    "    return {\n",
    "        \"text\": tokenizer.decode([token_ids + generated_tokens]),\n",
    "        \"generated_tokens\": generated_tokens,\n",
    "    }"
   ]
  },
  {
   "cell_type": "code",
   "execution_count": 39,
   "metadata": {},
   "outputs": [
    {
     "name": "stdout",
     "output_type": "stream",
     "text": [
      "[ 479    4  432    7 1288 3453  210 1874 1378  257]\n",
      "[('You', 0.0399), ('_', 0.0356), ('I', 0.0304), ('_I', 0.0279), ('When', 0.0227), ('There', 0.0208), ('_Yeah', 0.0183), ('Hey', 0.0178), ('A', 0.0148), ('_\"', 0.0143)]\n",
      "[ 24  68  10  18 493  89 477  75 117 916]\n",
      "[('_are', 0.2671), ('_got', 0.065), ('_know', 0.0602), ('_have', 0.0482), ('_can', 0.0472), ('_cannot', 0.0237), ('_will', 0.023), ('_do', 0.0203), ('_and', 0.0171), ('_were', 0.0158)]\n",
      "[  9  57  77  30  73 122  54 419 226 760]\n",
      "[('_to', 0.4143), ('_a', 0.1681), ('_the', 0.0509), ('_me', 0.0395), ('_that', 0.0262), ('_your', 0.0243), ('_my', 0.016), ('_an', 0.0117), ('_so', 0.0106), ('_some', 0.0094)]\n",
      "[ 21 179  34  18 344 345 281  90 785 494]\n",
      "[('_go', 0.1493), ('_get', 0.1202), ('_be', 0.053), ('_have', 0.039), ('_make', 0.0265), ('_move', 0.0222), ('_take', 0.021), ('_see', 0.0205), ('_find', 0.0184), ('_keep', 0.0172)]\n",
      "[  57   77  122 6080   54  264  226  147   25   73]\n",
      "[('_a', 0.0905), ('_the', 0.0817), ('_your', 0.0769), ('_careful', 0.0674), ('_my', 0.056), ('_there', 0.0459), ('_so', 0.0355), ('_in', 0.0245), ('_out', 0.0235), ('_that', 0.0155)]\n",
      "[  77  122   57   54  133  240  858  760   73 6383]\n",
      "[('_the', 0.2543), ('_your', 0.1226), ('_a', 0.0938), ('_my', 0.0911), ('_love', 0.0608), ('_this', 0.0244), ('_trouble', 0.0226), ('_some', 0.0148), ('_that', 0.0124), ('_Paris', 0.0096)]\n",
      "[ 912 1862 3302 1882  805 1343   78  338  110  363]\n",
      "[('_arms', 0.0519), ('_pocket', 0.0484), ('_house', 0.0388), ('_bed', 0.0272), ('_place', 0.0252), ('_mood', 0.0242), ('_way', 0.0242), ('_room', 0.0236), ('_head', 0.0222), ('_car', 0.022)]\n",
      "[    2    80    22   117   274   405     7    50    16 16973]\n",
      "[(',', 0.1489), ('_You', 0.0887), ('_And', 0.0526), ('_and', 0.045), ('_tonight', 0.0301), ('\"', 0.0293), ('_I', 0.0226), ('_When', 0.0212), ('?', 0.0167), ('nets', 0.0129)]\n",
      "[ 20   7 117 147   3 122 226  33  68 309]\n",
      "[('_you', 0.1917), ('_I', 0.0389), ('_and', 0.0335), ('_in', 0.0297), ('_baby', 0.027), ('_your', 0.027), ('_so', 0.0232), ('_it', 0.0196), ('_got', 0.0187), ('_but', 0.0142)]\n",
      "[ 24  68 493  10  89  32 477  18 179 149]\n",
      "[('_are', 0.2061), ('_got', 0.1755), ('_can', 0.0776), ('_know', 0.0541), ('_cannot', 0.0536), ('_want', 0.0378), ('_will', 0.0346), ('_have', 0.0305), ('_get', 0.0193), ('_all', 0.0142)]\n",
      "[  34   90  785  179  281  119  344  290 1188   18]\n",
      "[('_be', 0.143), ('_see', 0.1244), ('_find', 0.0576), ('_get', 0.0439), ('_take', 0.0416), ('_feel', 0.0293), ('_make', 0.0171), ('_tell', 0.0171), ('_drive', 0.0157), ('_have', 0.0151)]\n",
      "[ 33  77  73 122 548 134  30  54  20  57]\n",
      "[('_it', 0.2108), ('_the', 0.1355), ('_that', 0.1178), ('_your', 0.0782), ('_them', 0.0597), ('_what', 0.0405), ('_me', 0.037), ('_my', 0.0307), ('_you', 0.0207), ('_a', 0.0171)]\n",
      "[ 147 1040   40  149   80  124  137    2 2924  678]\n",
      "[('_in', 0.2291), ('_coming', 0.0801), ('_is', 0.0714), ('_all', 0.0451), ('_You', 0.0356), ('_on', 0.0303), ('_up', 0.02), (',', 0.015), ('_com', 0.0143), ('_through', 0.0121)]\n",
      "[313  57 122 147  13  77 146 149 188 907]\n",
      "[('_going', 0.1549), ('_a', 0.0885), ('_your', 0.0614), ('_in', 0.0338), ('_not', 0.0269), ('_the', 0.0231), ('_over', 0.0224), ('_all', 0.0203), ('_just', 0.0194), ('_been', 0.0171)]\n",
      "[122  77  54  57  30  20 571  33  80 240]\n",
      "[('_your', 0.4646), ('_the', 0.1463), ('_my', 0.1339), ('_a', 0.0371), ('_me', 0.0232), ('_you', 0.0226), ('_between', 0.0106), ('_it', 0.0095), ('_You', 0.0071), ('_this', 0.0054)]\n",
      "[ 687 2748  324  110 1615  232 1540 1399  978   55]\n",
      "[('_eyes', 0.3406), ('_bones', 0.0736), ('_face', 0.0674), ('_head', 0.0517), ('_hands', 0.043), ('_heart', 0.0281), ('_mouth', 0.0247), ('_eye', 0.0188), ('_hair', 0.0138), ('_mind', 0.0131)]\n",
      "[ 80  22   7   2  76 405  71 333 118  11]\n",
      "[('_You', 0.211), ('_And', 0.0665), ('_I', 0.0514), (',', 0.0446), ('_It', 0.0363), ('\"', 0.025), ('_There', 0.0195), ('_We', 0.0166), ('_Do', 0.0165), ('_That', 0.0161)]\n",
      "[493  24  68  10  89 477  75  90 179 159]\n",
      "[('_can', 0.2271), ('_are', 0.1671), ('_got', 0.1035), ('_know', 0.0482), ('_cannot', 0.04), ('_will', 0.0342), ('_do', 0.0263), ('_see', 0.0255), ('_get', 0.0172), ('_better', 0.0161)]\n",
      "[ 34 179 281 187  90 785 802 290 494  21]\n",
      "[('_be', 0.0875), ('_get', 0.0715), ('_take', 0.0651), ('_stop', 0.0548), ('_see', 0.0541), ('_find', 0.0476), ('_hide', 0.0252), ('_tell', 0.0234), ('_keep', 0.0217), ('_go', 0.0154)]\n",
      "[  33   77  122    2   54   57  140 2390  240  147]\n",
      "[('_it', 0.1756), ('_the', 0.1731), ('_your', 0.1477), (',', 0.0822), ('_my', 0.063), ('_a', 0.0248), ('_from', 0.0244), ('_yourself', 0.0205), ('_this', 0.0193), ('_in', 0.0144)]\n",
      "[ 423 8214  471  377  415  148 2009  909 1182 1172]\n",
      "[('_world', 0.0392), ('_cracks', 0.0253), ('_pain', 0.024), ('_light', 0.0231), ('_tears', 0.0181), ('_air', 0.0164), ('_words', 0.0161), ('_moon', 0.0156), ('_ground', 0.015), ('_sheets', 0.0144)]\n",
      "[  2 147 117 316 124  73  20  80 348   9]\n",
      "[(',', 0.4284), ('_in', 0.1516), ('_and', 0.051), ('_or', 0.0265), ('_on', 0.0246), ('_that', 0.021), ('_you', 0.0195), ('_You', 0.019), ('_for', 0.013), ('_to', 0.0114)]\n",
      "[ 20  33 122   7 309  77  89 117 316 246]\n",
      "[('_you', 0.3463), ('_it', 0.1219), ('_your', 0.0574), ('_I', 0.0502), ('_but', 0.0376), ('_the', 0.0299), ('_cannot', 0.0171), ('_and', 0.0149), ('_or', 0.0138), ('_they', 0.0126)]\n",
      "[ 892  148  415  381 2748 4387  909  423  377 3264]\n",
      "[('_stars', 0.0479), ('_air', 0.0387), ('_tears', 0.0186), ('_sky', 0.0139), ('_bones', 0.0136), ('_grass', 0.013), ('_moon', 0.0127), ('_world', 0.0117), ('_light', 0.0107), ('_walls', 0.0099)]\n",
      "[ 26  24 147 117   2  73  40 124  20  89]\n",
      "[('_of', 0.3455), ('_are', 0.1067), ('_in', 0.1), ('_and', 0.061), (',', 0.0436), ('_that', 0.0317), ('_is', 0.0238), ('_on', 0.0211), ('_you', 0.0203), ('_cannot', 0.0157)]\n",
      "[ 894 7437 3746  122  313   77   13  124 4512  149]\n",
      "[('_open', 0.0594), ('_drawn', 0.0338), ('_wide', 0.0336), ('_your', 0.0287), ('_going', 0.0277), ('_the', 0.0276), ('_not', 0.0242), ('_on', 0.0233), ('_empty', 0.0232), ('_all', 0.022)]\n",
      "[  80  117    2   22  220    7   63 3746    9   71]\n",
      "[('_You', 0.0867), ('_and', 0.0733), (',', 0.0694), ('_And', 0.0572), ('_But', 0.0485), ('_I', 0.0424), ('_The', 0.0411), ('_wide', 0.032), ('_to', 0.0209), ('_There', 0.0197)]\n",
      "[ 892 3264  909 2410  148  423  381 1172  460 3367]\n",
      "[('_stars', 0.0543), ('_walls', 0.0526), ('_moon', 0.0298), ('_clouds', 0.0228), ('_air', 0.0216), ('_world', 0.0148), ('_sky', 0.0144), ('_sheets', 0.0142), ('_only', 0.0135), ('_wind', 0.0125)]\n",
      "[ 24   2 147 117 477 493  89 237 124  75]\n",
      "[('_are', 0.5068), (',', 0.0729), ('_in', 0.0357), ('_and', 0.0225), ('_will', 0.0189), ('_can', 0.0183), ('_cannot', 0.0179), ('_above', 0.0161), ('_on', 0.016), ('_do', 0.0111)]\n",
      "[ 894   97  313 1391   77  149  226  318  188 7437]\n",
      "[('_open', 0.041), ('_falling', 0.0377), ('_going', 0.0314), ('_shining', 0.0288), ('_the', 0.0255), ('_all', 0.0225), ('_so', 0.0193), ('_closing', 0.0192), ('_just', 0.0184), ('_drawn', 0.017)]\n",
      "[3746    2  117  137    9  147  894   52   83  348]\n",
      "[('_wide', 0.2281), (',', 0.2008), ('_and', 0.1113), ('_up', 0.0539), ('_to', 0.0385), ('_in', 0.0288), ('_open', 0.0214), ('_with', 0.0156), ('_like', 0.0149), ('_for', 0.0129)]\n",
      "[   2  117 3746  894   22    9   80  348   63  147]\n",
      "[(',', 0.3747), ('_and', 0.08), ('_wide', 0.0423), ('_open', 0.0357), ('_And', 0.0281), ('_to', 0.0257), ('_You', 0.0254), ('_for', 0.0196), ('_The', 0.014), ('_in', 0.0117)]\n",
      "[ 20  77  33 122 309 226 117 264 246   7]\n",
      "[('_you', 0.2452), ('_the', 0.1089), ('_it', 0.0602), ('_your', 0.0502), ('_but', 0.0484), ('_so', 0.0344), ('_and', 0.0338), ('_there', 0.0313), ('_they', 0.0258), ('_I', 0.0247)]\n",
      "[ 892  909 1446  381  148  415  377 3264 5339  423]\n",
      "[('_stars', 0.0997), ('_moon', 0.0316), ('_skies', 0.0259), ('_sky', 0.0235), ('_air', 0.0198), ('_tears', 0.0173), ('_light', 0.0158), ('_walls', 0.0143), ('_shadows', 0.0131), ('_world', 0.0116)]\n",
      "[ 24 147 477 237 124  40   2  89 117  47]\n",
      "[('_are', 0.6625), ('_in', 0.0366), ('_will', 0.0315), ('_above', 0.0147), ('_on', 0.0131), ('_is', 0.0115), (',', 0.0115), ('_cannot', 0.0108), ('_and', 0.0098), ('_still', 0.0079)]\n",
      "[  894    97    47 11139  1391   124   107   376    25 11948]\n",
      "[('_open', 0.0341), ('_falling', 0.0293), ('_still', 0.0244), ('_gle', 0.0244), ('_shining', 0.0238), ('_on', 0.0224), ('_down', 0.0207), ('_bright', 0.0201), ('_out', 0.0195), ('_aligned', 0.0187)]\n",
      "[3746   80   22   63  137    2  117  220  894    7]\n",
      "[('_wide', 0.1672), ('_You', 0.0585), ('_And', 0.0517), ('_The', 0.0504), ('_up', 0.0502), (',', 0.0387), ('_and', 0.032), ('_But', 0.0213), ('_open', 0.0212), ('_I', 0.0211)]\n",
      "[ 20  77 122 246 264  33   7  73 317 215]\n",
      "[('_you', 0.2568), ('_the', 0.2014), ('_your', 0.103), ('_they', 0.0439), ('_there', 0.0431), ('_it', 0.043), ('_I', 0.0307), ('_that', 0.02), ('_when', 0.0163), ('_we', 0.0123)]\n",
      "[  40   24  477 2649 1115  505    6   89  194 2372]\n",
      "[('_is', 0.7756), ('_are', 0.0468), ('_will', 0.0182), ('_seems', 0.0133), ('_looks', 0.0088), ('_feels', 0.0087), ('_was', 0.0083), ('_cannot', 0.0067), ('_comes', 0.0067), ('_goes', 0.0066)]\n",
      "[ 13  77  62 149 313  57 191 188 907 122]\n",
      "[('_not', 0.0667), ('_the', 0.06), ('_time', 0.0579), ('_all', 0.0569), ('_going', 0.0502), ('_a', 0.0476), ('_hard', 0.0411), ('_just', 0.0395), ('_been', 0.0239), ('_your', 0.0232)]\n",
      "[ 77  57 122 134 774 226 348 191  83 264]\n",
      "[('_the', 0.1834), ('_a', 0.0423), ('_your', 0.0415), ('_what', 0.0389), ('_too', 0.0378), ('_so', 0.0363), ('_for', 0.0323), ('_hard', 0.0264), ('_like', 0.025), ('_there', 0.0228)]\n",
      "[ 20  77  33  57  73 240 122   2  72  30]\n",
      "[('_you', 0.2413), ('_the', 0.1631), ('_it', 0.0819), ('_a', 0.0636), ('_that', 0.0376), ('_this', 0.025), ('_your', 0.023), (',', 0.0162), ('_nothing', 0.0156), ('_me', 0.0136)]\n",
      "[   2   24  117  916  416  493   18 1075   75  147]\n",
      "[(',', 0.2242), ('_are', 0.2168), ('_and', 0.0538), ('_were', 0.0348), ('_at', 0.0178), ('_can', 0.0163), ('_have', 0.0156), ('_used', 0.015), ('_do', 0.015), ('_in', 0.0137)]\n",
      "[ 20  33 309   7  77   3 264 117  98 358]\n",
      "[('_you', 0.3135), ('_it', 0.0519), ('_but', 0.0491), ('_I', 0.0474), ('_the', 0.0396), ('_baby', 0.0359), ('_there', 0.0235), ('_and', 0.0197), ('_no', 0.0176), ('_o', 0.0172)]\n",
      "[ 24  89   2 117  10 477  18  75  68 493]\n",
      "[('_are', 0.4978), ('_cannot', 0.0547), (',', 0.0451), ('_and', 0.043), ('_know', 0.0328), ('_will', 0.0263), ('_have', 0.0253), ('_do', 0.0216), ('_got', 0.0188), ('_can', 0.0173)]\n",
      "[  68  907    9  932  272 1064 2241 1483   13  234]\n",
      "[('_got', 0.3165), ('_been', 0.1785), ('_to', 0.1054), ('_never', 0.0637), ('_seen', 0.0271), ('_had', 0.0198), ('_found', 0.018), ('_always', 0.0153), ('_not', 0.0138), ('_lost', 0.0114)]\n",
      "[  21   34   90  106   10   75  785 1560   18  303]\n",
      "[('_go', 0.2397), ('_be', 0.1012), ('_see', 0.0644), ('_come', 0.0381), ('_know', 0.0285), ('_do', 0.0204), ('_find', 0.0184), ('_leave', 0.0175), ('_have', 0.017), ('_say', 0.0143)]\n",
      "[ 80   9   4   2 220 296  22   7 242  76]\n",
      "[('_You', 0.0786), ('_to', 0.0725), ('_', 0.0585), (',', 0.0453), ('_But', 0.0398), ('_home', 0.0306), ('_And', 0.0256), ('_I', 0.0249), ('_away', 0.0228), ('_It', 0.0196)]\n",
      "[  40   24 2372  221    6 2649  505   75  477   45]\n",
      "[('_is', 0.8283), ('_are', 0.0306), ('_goes', 0.0269), ('_does', 0.0119), ('_was', 0.0082), ('_seems', 0.0073), ('_feels', 0.0062), ('_do', 0.0061), ('_will', 0.006), ('_must', 0.0045)]\n",
      "[ 13  57  77  62 313  83 188 226 149 122]\n",
      "[('_not', 0.0979), ('_a', 0.0913), ('_the', 0.0856), ('_time', 0.0729), ('_going', 0.059), ('_like', 0.0503), ('_just', 0.0428), ('_so', 0.038), ('_all', 0.0251), ('_your', 0.0229)]\n"
     ]
    },
    {
     "data": {
      "text/plain": [
       "['You got to be in your bed, you can see it is in your hands You cannot hide the air, the bones are wide The stars are open wide, the stars are open And it is not like you, you have to go It is notYou got to be in your bed, you can see it is in your hands You cannot hide the air, the bones are wide The stars are open wide, the stars are open And it is not like you, you have to go It is not']"
      ]
     },
     "execution_count": 39,
     "metadata": {},
     "output_type": "execute_result"
    }
   ],
   "source": [
    "gen_lyrics = generate(model, tokenizer, top_k = 10, max_new_tokens=50, debug = True)\n",
    "gen_lyrics[\"text\"]"
   ]
  },
  {
   "cell_type": "code",
   "execution_count": null,
   "metadata": {},
   "outputs": [],
   "source": []
  }
 ],
 "metadata": {
  "kernelspec": {
   "display_name": "tensorflow",
   "language": "python",
   "name": "python3"
  },
  "language_info": {
   "codemirror_mode": {
    "name": "ipython",
    "version": 3
   },
   "file_extension": ".py",
   "mimetype": "text/x-python",
   "name": "python",
   "nbconvert_exporter": "python",
   "pygments_lexer": "ipython3",
   "version": "3.9.16"
  }
 },
 "nbformat": 4,
 "nbformat_minor": 2
}
